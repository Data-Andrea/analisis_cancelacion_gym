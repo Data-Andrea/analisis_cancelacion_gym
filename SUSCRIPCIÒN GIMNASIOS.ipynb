{
 "cells": [
  {
   "cell_type": "markdown",
   "metadata": {},
   "source": [
    "# Contenido del proyecto <a id='back'></a>"
   ]
  },
  {
   "cell_type": "markdown",
   "metadata": {},
   "source": [
    "* [Introducciòn](#intro)\n",
    "* [Informaciòn general de los datos](#informacion)\n",
    "* [Preprocesamiento de datos](#Preprocesamiento)\n",
    "* [Anàlisis de la informaciòn](#analisis)\n",
    "* [Conclusiones](#conclusiones)"
   ]
  },
  {
   "cell_type": "markdown",
   "metadata": {},
   "source": [
    "# Introducciòn <a id='intro'></a>"
   ]
  },
  {
   "cell_type": "markdown",
   "metadata": {},
   "source": [
    "La base de datos contiene informaciòn aportada por una lìnea de gimnasios, que contiene datos sobre la cancelaciòn de la suscripciòn al servicio por parte de los usuarios en un mes e informaciòn del mes anterior. El anàlisis de la informaciòn de èstos datos se realizarà con el fin de identificar las razones mas comunes por las cuales los clientes cancelan la suscripciòn al servicio y recomendar estrategias para la retenciòn de clientes."
   ]
  },
  {
   "cell_type": "markdown",
   "metadata": {},
   "source": [
    "# Informaciòn general de los datos <a id='informacion'></a>"
   ]
  },
  {
   "cell_type": "markdown",
   "metadata": {},
   "source": [
    "Inicialmente se cargan las librerìas necesarias para el anàlisis de los datos."
   ]
  },
  {
   "cell_type": "code",
   "execution_count": 1,
   "metadata": {},
   "outputs": [],
   "source": [
    "import pandas as pd\n",
    "import numpy as np\n",
    "import seaborn as sns\n",
    "import matplotlib.pyplot as plt\n",
    "from sklearn.preprocessing import StandardScaler\n",
    "from sklearn.model_selection import train_test_split\n",
    "from sklearn.ensemble import RandomForestClassifier\n",
    "from sklearn.metrics import mean_absolute_error,mean_squared_error,r2_score\n",
    "from sklearn import linear_model\n",
    "from sklearn.metrics import accuracy_score,precision_score,recall_score\n",
    "from sklearn.linear_model import LogisticRegression\n",
    "from scipy.cluster.hierarchy import dendrogram,linkage\n",
    "from sklearn.cluster import KMeans\n",
    "import mpl_toolkits.axisartist as axisartist"
   ]
  },
  {
   "cell_type": "markdown",
   "metadata": {},
   "source": [
    "Se carga el dataset que contiene la informaciòn de los datos."
   ]
  },
  {
   "cell_type": "code",
   "execution_count": 2,
   "metadata": {},
   "outputs": [],
   "source": [
    "users_gym=pd.read_csv('/datasets/gym_churn_us.csv')"
   ]
  },
  {
   "cell_type": "markdown",
   "metadata": {},
   "source": [
    "Se carga la informaciòn general de los datos."
   ]
  },
  {
   "cell_type": "code",
   "execution_count": 3,
   "metadata": {},
   "outputs": [
    {
     "name": "stdout",
     "output_type": "stream",
     "text": [
      "<class 'pandas.core.frame.DataFrame'>\n",
      "RangeIndex: 4000 entries, 0 to 3999\n",
      "Data columns (total 14 columns):\n",
      " #   Column                             Non-Null Count  Dtype  \n",
      "---  ------                             --------------  -----  \n",
      " 0   gender                             4000 non-null   int64  \n",
      " 1   Near_Location                      4000 non-null   int64  \n",
      " 2   Partner                            4000 non-null   int64  \n",
      " 3   Promo_friends                      4000 non-null   int64  \n",
      " 4   Phone                              4000 non-null   int64  \n",
      " 5   Contract_period                    4000 non-null   int64  \n",
      " 6   Group_visits                       4000 non-null   int64  \n",
      " 7   Age                                4000 non-null   int64  \n",
      " 8   Avg_additional_charges_total       4000 non-null   float64\n",
      " 9   Month_to_end_contract              4000 non-null   float64\n",
      " 10  Lifetime                           4000 non-null   int64  \n",
      " 11  Avg_class_frequency_total          4000 non-null   float64\n",
      " 12  Avg_class_frequency_current_month  4000 non-null   float64\n",
      " 13  Churn                              4000 non-null   int64  \n",
      "dtypes: float64(4), int64(10)\n",
      "memory usage: 437.6 KB\n"
     ]
    }
   ],
   "source": [
    "users_gym.info()"
   ]
  },
  {
   "cell_type": "markdown",
   "metadata": {},
   "source": [
    "No se evidencian datos ausentes en los datos."
   ]
  },
  {
   "cell_type": "markdown",
   "metadata": {},
   "source": [
    "Los tipos de datos para las columnas se consideran que no es necesario modificarlas."
   ]
  },
  {
   "cell_type": "markdown",
   "metadata": {},
   "source": [
    "Se considera importante cambiar los nombres de las columnas a minùsculas para facilitar la manipulaciòn de los datos."
   ]
  },
  {
   "cell_type": "code",
   "execution_count": 4,
   "metadata": {
    "scrolled": true
   },
   "outputs": [
    {
     "data": {
      "text/html": [
       "<div>\n",
       "<style scoped>\n",
       "    .dataframe tbody tr th:only-of-type {\n",
       "        vertical-align: middle;\n",
       "    }\n",
       "\n",
       "    .dataframe tbody tr th {\n",
       "        vertical-align: top;\n",
       "    }\n",
       "\n",
       "    .dataframe thead th {\n",
       "        text-align: right;\n",
       "    }\n",
       "</style>\n",
       "<table border=\"1\" class=\"dataframe\">\n",
       "  <thead>\n",
       "    <tr style=\"text-align: right;\">\n",
       "      <th></th>\n",
       "      <th>gender</th>\n",
       "      <th>Near_Location</th>\n",
       "      <th>Partner</th>\n",
       "      <th>Promo_friends</th>\n",
       "      <th>Phone</th>\n",
       "      <th>Contract_period</th>\n",
       "      <th>Group_visits</th>\n",
       "      <th>Age</th>\n",
       "      <th>Avg_additional_charges_total</th>\n",
       "      <th>Month_to_end_contract</th>\n",
       "      <th>Lifetime</th>\n",
       "      <th>Avg_class_frequency_total</th>\n",
       "      <th>Avg_class_frequency_current_month</th>\n",
       "      <th>Churn</th>\n",
       "    </tr>\n",
       "  </thead>\n",
       "  <tbody>\n",
       "    <tr>\n",
       "      <th>0</th>\n",
       "      <td>1</td>\n",
       "      <td>1</td>\n",
       "      <td>1</td>\n",
       "      <td>1</td>\n",
       "      <td>0</td>\n",
       "      <td>6</td>\n",
       "      <td>1</td>\n",
       "      <td>29</td>\n",
       "      <td>14.227470</td>\n",
       "      <td>5.0</td>\n",
       "      <td>3</td>\n",
       "      <td>0.020398</td>\n",
       "      <td>0.000000</td>\n",
       "      <td>0</td>\n",
       "    </tr>\n",
       "    <tr>\n",
       "      <th>1</th>\n",
       "      <td>0</td>\n",
       "      <td>1</td>\n",
       "      <td>0</td>\n",
       "      <td>0</td>\n",
       "      <td>1</td>\n",
       "      <td>12</td>\n",
       "      <td>1</td>\n",
       "      <td>31</td>\n",
       "      <td>113.202938</td>\n",
       "      <td>12.0</td>\n",
       "      <td>7</td>\n",
       "      <td>1.922936</td>\n",
       "      <td>1.910244</td>\n",
       "      <td>0</td>\n",
       "    </tr>\n",
       "    <tr>\n",
       "      <th>2</th>\n",
       "      <td>0</td>\n",
       "      <td>1</td>\n",
       "      <td>1</td>\n",
       "      <td>0</td>\n",
       "      <td>1</td>\n",
       "      <td>1</td>\n",
       "      <td>0</td>\n",
       "      <td>28</td>\n",
       "      <td>129.448479</td>\n",
       "      <td>1.0</td>\n",
       "      <td>2</td>\n",
       "      <td>1.859098</td>\n",
       "      <td>1.736502</td>\n",
       "      <td>0</td>\n",
       "    </tr>\n",
       "    <tr>\n",
       "      <th>3</th>\n",
       "      <td>0</td>\n",
       "      <td>1</td>\n",
       "      <td>1</td>\n",
       "      <td>1</td>\n",
       "      <td>1</td>\n",
       "      <td>12</td>\n",
       "      <td>1</td>\n",
       "      <td>33</td>\n",
       "      <td>62.669863</td>\n",
       "      <td>12.0</td>\n",
       "      <td>2</td>\n",
       "      <td>3.205633</td>\n",
       "      <td>3.357215</td>\n",
       "      <td>0</td>\n",
       "    </tr>\n",
       "    <tr>\n",
       "      <th>4</th>\n",
       "      <td>1</td>\n",
       "      <td>1</td>\n",
       "      <td>1</td>\n",
       "      <td>1</td>\n",
       "      <td>1</td>\n",
       "      <td>1</td>\n",
       "      <td>0</td>\n",
       "      <td>26</td>\n",
       "      <td>198.362265</td>\n",
       "      <td>1.0</td>\n",
       "      <td>3</td>\n",
       "      <td>1.113884</td>\n",
       "      <td>1.120078</td>\n",
       "      <td>0</td>\n",
       "    </tr>\n",
       "    <tr>\n",
       "      <th>5</th>\n",
       "      <td>1</td>\n",
       "      <td>1</td>\n",
       "      <td>0</td>\n",
       "      <td>0</td>\n",
       "      <td>1</td>\n",
       "      <td>1</td>\n",
       "      <td>1</td>\n",
       "      <td>34</td>\n",
       "      <td>450.743960</td>\n",
       "      <td>1.0</td>\n",
       "      <td>3</td>\n",
       "      <td>2.623477</td>\n",
       "      <td>2.637007</td>\n",
       "      <td>0</td>\n",
       "    </tr>\n",
       "    <tr>\n",
       "      <th>6</th>\n",
       "      <td>1</td>\n",
       "      <td>1</td>\n",
       "      <td>1</td>\n",
       "      <td>1</td>\n",
       "      <td>0</td>\n",
       "      <td>6</td>\n",
       "      <td>1</td>\n",
       "      <td>32</td>\n",
       "      <td>94.266389</td>\n",
       "      <td>6.0</td>\n",
       "      <td>2</td>\n",
       "      <td>1.138941</td>\n",
       "      <td>1.277242</td>\n",
       "      <td>0</td>\n",
       "    </tr>\n",
       "    <tr>\n",
       "      <th>7</th>\n",
       "      <td>0</td>\n",
       "      <td>1</td>\n",
       "      <td>0</td>\n",
       "      <td>0</td>\n",
       "      <td>1</td>\n",
       "      <td>1</td>\n",
       "      <td>0</td>\n",
       "      <td>30</td>\n",
       "      <td>217.786641</td>\n",
       "      <td>1.0</td>\n",
       "      <td>0</td>\n",
       "      <td>1.213502</td>\n",
       "      <td>1.049387</td>\n",
       "      <td>1</td>\n",
       "    </tr>\n",
       "    <tr>\n",
       "      <th>8</th>\n",
       "      <td>1</td>\n",
       "      <td>1</td>\n",
       "      <td>1</td>\n",
       "      <td>1</td>\n",
       "      <td>1</td>\n",
       "      <td>1</td>\n",
       "      <td>1</td>\n",
       "      <td>23</td>\n",
       "      <td>45.409909</td>\n",
       "      <td>1.0</td>\n",
       "      <td>1</td>\n",
       "      <td>1.106239</td>\n",
       "      <td>1.059333</td>\n",
       "      <td>0</td>\n",
       "    </tr>\n",
       "    <tr>\n",
       "      <th>9</th>\n",
       "      <td>0</td>\n",
       "      <td>1</td>\n",
       "      <td>0</td>\n",
       "      <td>0</td>\n",
       "      <td>1</td>\n",
       "      <td>1</td>\n",
       "      <td>0</td>\n",
       "      <td>31</td>\n",
       "      <td>65.310836</td>\n",
       "      <td>1.0</td>\n",
       "      <td>11</td>\n",
       "      <td>1.810852</td>\n",
       "      <td>1.951368</td>\n",
       "      <td>0</td>\n",
       "    </tr>\n",
       "  </tbody>\n",
       "</table>\n",
       "</div>"
      ],
      "text/plain": [
       "   gender  Near_Location  Partner  Promo_friends  Phone  Contract_period  \\\n",
       "0       1              1        1              1      0                6   \n",
       "1       0              1        0              0      1               12   \n",
       "2       0              1        1              0      1                1   \n",
       "3       0              1        1              1      1               12   \n",
       "4       1              1        1              1      1                1   \n",
       "5       1              1        0              0      1                1   \n",
       "6       1              1        1              1      0                6   \n",
       "7       0              1        0              0      1                1   \n",
       "8       1              1        1              1      1                1   \n",
       "9       0              1        0              0      1                1   \n",
       "\n",
       "   Group_visits  Age  Avg_additional_charges_total  Month_to_end_contract  \\\n",
       "0             1   29                     14.227470                    5.0   \n",
       "1             1   31                    113.202938                   12.0   \n",
       "2             0   28                    129.448479                    1.0   \n",
       "3             1   33                     62.669863                   12.0   \n",
       "4             0   26                    198.362265                    1.0   \n",
       "5             1   34                    450.743960                    1.0   \n",
       "6             1   32                     94.266389                    6.0   \n",
       "7             0   30                    217.786641                    1.0   \n",
       "8             1   23                     45.409909                    1.0   \n",
       "9             0   31                     65.310836                    1.0   \n",
       "\n",
       "   Lifetime  Avg_class_frequency_total  Avg_class_frequency_current_month  \\\n",
       "0         3                   0.020398                           0.000000   \n",
       "1         7                   1.922936                           1.910244   \n",
       "2         2                   1.859098                           1.736502   \n",
       "3         2                   3.205633                           3.357215   \n",
       "4         3                   1.113884                           1.120078   \n",
       "5         3                   2.623477                           2.637007   \n",
       "6         2                   1.138941                           1.277242   \n",
       "7         0                   1.213502                           1.049387   \n",
       "8         1                   1.106239                           1.059333   \n",
       "9        11                   1.810852                           1.951368   \n",
       "\n",
       "   Churn  \n",
       "0      0  \n",
       "1      0  \n",
       "2      0  \n",
       "3      0  \n",
       "4      0  \n",
       "5      0  \n",
       "6      0  \n",
       "7      1  \n",
       "8      0  \n",
       "9      0  "
      ]
     },
     "execution_count": 4,
     "metadata": {},
     "output_type": "execute_result"
    }
   ],
   "source": [
    "users_gym.head(10)"
   ]
  },
  {
   "cell_type": "markdown",
   "metadata": {},
   "source": [
    "Se identifica si existen datos duplicados."
   ]
  },
  {
   "cell_type": "code",
   "execution_count": 5,
   "metadata": {},
   "outputs": [
    {
     "data": {
      "text/plain": [
       "0"
      ]
     },
     "execution_count": 5,
     "metadata": {},
     "output_type": "execute_result"
    }
   ],
   "source": [
    "users_gym.duplicated().sum()"
   ]
  },
  {
   "cell_type": "markdown",
   "metadata": {},
   "source": [
    "No se identifican datos duplicados."
   ]
  },
  {
   "cell_type": "markdown",
   "metadata": {},
   "source": [
    "**Se eidentifican los valores promedio y desviaciòn estàndar para cada columna.**"
   ]
  },
  {
   "cell_type": "code",
   "execution_count": 6,
   "metadata": {
    "scrolled": false
   },
   "outputs": [
    {
     "data": {
      "text/html": [
       "<div>\n",
       "<style scoped>\n",
       "    .dataframe tbody tr th:only-of-type {\n",
       "        vertical-align: middle;\n",
       "    }\n",
       "\n",
       "    .dataframe tbody tr th {\n",
       "        vertical-align: top;\n",
       "    }\n",
       "\n",
       "    .dataframe thead th {\n",
       "        text-align: right;\n",
       "    }\n",
       "</style>\n",
       "<table border=\"1\" class=\"dataframe\">\n",
       "  <thead>\n",
       "    <tr style=\"text-align: right;\">\n",
       "      <th></th>\n",
       "      <th>gender</th>\n",
       "      <th>Near_Location</th>\n",
       "      <th>Partner</th>\n",
       "      <th>Promo_friends</th>\n",
       "      <th>Phone</th>\n",
       "      <th>Contract_period</th>\n",
       "      <th>Group_visits</th>\n",
       "      <th>Age</th>\n",
       "      <th>Avg_additional_charges_total</th>\n",
       "      <th>Month_to_end_contract</th>\n",
       "      <th>Lifetime</th>\n",
       "      <th>Avg_class_frequency_total</th>\n",
       "      <th>Avg_class_frequency_current_month</th>\n",
       "      <th>Churn</th>\n",
       "    </tr>\n",
       "  </thead>\n",
       "  <tbody>\n",
       "    <tr>\n",
       "      <th>count</th>\n",
       "      <td>4000.000000</td>\n",
       "      <td>4000.000000</td>\n",
       "      <td>4000.000000</td>\n",
       "      <td>4000.000000</td>\n",
       "      <td>4000.000000</td>\n",
       "      <td>4000.000000</td>\n",
       "      <td>4000.000000</td>\n",
       "      <td>4000.000000</td>\n",
       "      <td>4000.000000</td>\n",
       "      <td>4000.000000</td>\n",
       "      <td>4000.000000</td>\n",
       "      <td>4000.000000</td>\n",
       "      <td>4000.000000</td>\n",
       "      <td>4000.000000</td>\n",
       "    </tr>\n",
       "    <tr>\n",
       "      <th>mean</th>\n",
       "      <td>0.510250</td>\n",
       "      <td>0.845250</td>\n",
       "      <td>0.486750</td>\n",
       "      <td>0.308500</td>\n",
       "      <td>0.903500</td>\n",
       "      <td>4.681250</td>\n",
       "      <td>0.412250</td>\n",
       "      <td>29.184250</td>\n",
       "      <td>146.943728</td>\n",
       "      <td>4.322750</td>\n",
       "      <td>3.724750</td>\n",
       "      <td>1.879020</td>\n",
       "      <td>1.767052</td>\n",
       "      <td>0.265250</td>\n",
       "    </tr>\n",
       "    <tr>\n",
       "      <th>std</th>\n",
       "      <td>0.499957</td>\n",
       "      <td>0.361711</td>\n",
       "      <td>0.499887</td>\n",
       "      <td>0.461932</td>\n",
       "      <td>0.295313</td>\n",
       "      <td>4.549706</td>\n",
       "      <td>0.492301</td>\n",
       "      <td>3.258367</td>\n",
       "      <td>96.355602</td>\n",
       "      <td>4.191297</td>\n",
       "      <td>3.749267</td>\n",
       "      <td>0.972245</td>\n",
       "      <td>1.052906</td>\n",
       "      <td>0.441521</td>\n",
       "    </tr>\n",
       "    <tr>\n",
       "      <th>min</th>\n",
       "      <td>0.000000</td>\n",
       "      <td>0.000000</td>\n",
       "      <td>0.000000</td>\n",
       "      <td>0.000000</td>\n",
       "      <td>0.000000</td>\n",
       "      <td>1.000000</td>\n",
       "      <td>0.000000</td>\n",
       "      <td>18.000000</td>\n",
       "      <td>0.148205</td>\n",
       "      <td>1.000000</td>\n",
       "      <td>0.000000</td>\n",
       "      <td>0.000000</td>\n",
       "      <td>0.000000</td>\n",
       "      <td>0.000000</td>\n",
       "    </tr>\n",
       "    <tr>\n",
       "      <th>25%</th>\n",
       "      <td>0.000000</td>\n",
       "      <td>1.000000</td>\n",
       "      <td>0.000000</td>\n",
       "      <td>0.000000</td>\n",
       "      <td>1.000000</td>\n",
       "      <td>1.000000</td>\n",
       "      <td>0.000000</td>\n",
       "      <td>27.000000</td>\n",
       "      <td>68.868830</td>\n",
       "      <td>1.000000</td>\n",
       "      <td>1.000000</td>\n",
       "      <td>1.180875</td>\n",
       "      <td>0.963003</td>\n",
       "      <td>0.000000</td>\n",
       "    </tr>\n",
       "    <tr>\n",
       "      <th>50%</th>\n",
       "      <td>1.000000</td>\n",
       "      <td>1.000000</td>\n",
       "      <td>0.000000</td>\n",
       "      <td>0.000000</td>\n",
       "      <td>1.000000</td>\n",
       "      <td>1.000000</td>\n",
       "      <td>0.000000</td>\n",
       "      <td>29.000000</td>\n",
       "      <td>136.220159</td>\n",
       "      <td>1.000000</td>\n",
       "      <td>3.000000</td>\n",
       "      <td>1.832768</td>\n",
       "      <td>1.719574</td>\n",
       "      <td>0.000000</td>\n",
       "    </tr>\n",
       "    <tr>\n",
       "      <th>75%</th>\n",
       "      <td>1.000000</td>\n",
       "      <td>1.000000</td>\n",
       "      <td>1.000000</td>\n",
       "      <td>1.000000</td>\n",
       "      <td>1.000000</td>\n",
       "      <td>6.000000</td>\n",
       "      <td>1.000000</td>\n",
       "      <td>31.000000</td>\n",
       "      <td>210.949625</td>\n",
       "      <td>6.000000</td>\n",
       "      <td>5.000000</td>\n",
       "      <td>2.536078</td>\n",
       "      <td>2.510336</td>\n",
       "      <td>1.000000</td>\n",
       "    </tr>\n",
       "    <tr>\n",
       "      <th>max</th>\n",
       "      <td>1.000000</td>\n",
       "      <td>1.000000</td>\n",
       "      <td>1.000000</td>\n",
       "      <td>1.000000</td>\n",
       "      <td>1.000000</td>\n",
       "      <td>12.000000</td>\n",
       "      <td>1.000000</td>\n",
       "      <td>41.000000</td>\n",
       "      <td>552.590740</td>\n",
       "      <td>12.000000</td>\n",
       "      <td>31.000000</td>\n",
       "      <td>6.023668</td>\n",
       "      <td>6.146783</td>\n",
       "      <td>1.000000</td>\n",
       "    </tr>\n",
       "  </tbody>\n",
       "</table>\n",
       "</div>"
      ],
      "text/plain": [
       "            gender  Near_Location      Partner  Promo_friends        Phone  \\\n",
       "count  4000.000000    4000.000000  4000.000000    4000.000000  4000.000000   \n",
       "mean      0.510250       0.845250     0.486750       0.308500     0.903500   \n",
       "std       0.499957       0.361711     0.499887       0.461932     0.295313   \n",
       "min       0.000000       0.000000     0.000000       0.000000     0.000000   \n",
       "25%       0.000000       1.000000     0.000000       0.000000     1.000000   \n",
       "50%       1.000000       1.000000     0.000000       0.000000     1.000000   \n",
       "75%       1.000000       1.000000     1.000000       1.000000     1.000000   \n",
       "max       1.000000       1.000000     1.000000       1.000000     1.000000   \n",
       "\n",
       "       Contract_period  Group_visits          Age  \\\n",
       "count      4000.000000   4000.000000  4000.000000   \n",
       "mean          4.681250      0.412250    29.184250   \n",
       "std           4.549706      0.492301     3.258367   \n",
       "min           1.000000      0.000000    18.000000   \n",
       "25%           1.000000      0.000000    27.000000   \n",
       "50%           1.000000      0.000000    29.000000   \n",
       "75%           6.000000      1.000000    31.000000   \n",
       "max          12.000000      1.000000    41.000000   \n",
       "\n",
       "       Avg_additional_charges_total  Month_to_end_contract     Lifetime  \\\n",
       "count                   4000.000000            4000.000000  4000.000000   \n",
       "mean                     146.943728               4.322750     3.724750   \n",
       "std                       96.355602               4.191297     3.749267   \n",
       "min                        0.148205               1.000000     0.000000   \n",
       "25%                       68.868830               1.000000     1.000000   \n",
       "50%                      136.220159               1.000000     3.000000   \n",
       "75%                      210.949625               6.000000     5.000000   \n",
       "max                      552.590740              12.000000    31.000000   \n",
       "\n",
       "       Avg_class_frequency_total  Avg_class_frequency_current_month  \\\n",
       "count                4000.000000                        4000.000000   \n",
       "mean                    1.879020                           1.767052   \n",
       "std                     0.972245                           1.052906   \n",
       "min                     0.000000                           0.000000   \n",
       "25%                     1.180875                           0.963003   \n",
       "50%                     1.832768                           1.719574   \n",
       "75%                     2.536078                           2.510336   \n",
       "max                     6.023668                           6.146783   \n",
       "\n",
       "             Churn  \n",
       "count  4000.000000  \n",
       "mean      0.265250  \n",
       "std       0.441521  \n",
       "min       0.000000  \n",
       "25%       0.000000  \n",
       "50%       0.000000  \n",
       "75%       1.000000  \n",
       "max       1.000000  "
      ]
     },
     "execution_count": 6,
     "metadata": {},
     "output_type": "execute_result"
    }
   ],
   "source": [
    "users_gym.describe()"
   ]
  },
  {
   "cell_type": "markdown",
   "metadata": {},
   "source": [
    "# Preprocesamiento de datos <a id='preprocesamiento'></a>"
   ]
  },
  {
   "cell_type": "markdown",
   "metadata": {},
   "source": [
    "**Los nombres de las columnas se cambian por minùsculas**"
   ]
  },
  {
   "cell_type": "code",
   "execution_count": 7,
   "metadata": {},
   "outputs": [],
   "source": [
    "users_gym.columns=users_gym.columns.str.lower() #Los nombres de las columnas se modifican para que se encuentren en minùscula"
   ]
  },
  {
   "cell_type": "code",
   "execution_count": 8,
   "metadata": {
    "scrolled": true
   },
   "outputs": [
    {
     "data": {
      "text/html": [
       "<div>\n",
       "<style scoped>\n",
       "    .dataframe tbody tr th:only-of-type {\n",
       "        vertical-align: middle;\n",
       "    }\n",
       "\n",
       "    .dataframe tbody tr th {\n",
       "        vertical-align: top;\n",
       "    }\n",
       "\n",
       "    .dataframe thead th {\n",
       "        text-align: right;\n",
       "    }\n",
       "</style>\n",
       "<table border=\"1\" class=\"dataframe\">\n",
       "  <thead>\n",
       "    <tr style=\"text-align: right;\">\n",
       "      <th></th>\n",
       "      <th>gender</th>\n",
       "      <th>near_location</th>\n",
       "      <th>partner</th>\n",
       "      <th>promo_friends</th>\n",
       "      <th>phone</th>\n",
       "      <th>contract_period</th>\n",
       "      <th>group_visits</th>\n",
       "      <th>age</th>\n",
       "      <th>avg_additional_charges_total</th>\n",
       "      <th>month_to_end_contract</th>\n",
       "      <th>lifetime</th>\n",
       "      <th>avg_class_frequency_total</th>\n",
       "      <th>avg_class_frequency_current_month</th>\n",
       "      <th>churn</th>\n",
       "    </tr>\n",
       "  </thead>\n",
       "  <tbody>\n",
       "    <tr>\n",
       "      <th>0</th>\n",
       "      <td>1</td>\n",
       "      <td>1</td>\n",
       "      <td>1</td>\n",
       "      <td>1</td>\n",
       "      <td>0</td>\n",
       "      <td>6</td>\n",
       "      <td>1</td>\n",
       "      <td>29</td>\n",
       "      <td>14.227470</td>\n",
       "      <td>5.0</td>\n",
       "      <td>3</td>\n",
       "      <td>0.020398</td>\n",
       "      <td>0.000000</td>\n",
       "      <td>0</td>\n",
       "    </tr>\n",
       "    <tr>\n",
       "      <th>1</th>\n",
       "      <td>0</td>\n",
       "      <td>1</td>\n",
       "      <td>0</td>\n",
       "      <td>0</td>\n",
       "      <td>1</td>\n",
       "      <td>12</td>\n",
       "      <td>1</td>\n",
       "      <td>31</td>\n",
       "      <td>113.202938</td>\n",
       "      <td>12.0</td>\n",
       "      <td>7</td>\n",
       "      <td>1.922936</td>\n",
       "      <td>1.910244</td>\n",
       "      <td>0</td>\n",
       "    </tr>\n",
       "    <tr>\n",
       "      <th>2</th>\n",
       "      <td>0</td>\n",
       "      <td>1</td>\n",
       "      <td>1</td>\n",
       "      <td>0</td>\n",
       "      <td>1</td>\n",
       "      <td>1</td>\n",
       "      <td>0</td>\n",
       "      <td>28</td>\n",
       "      <td>129.448479</td>\n",
       "      <td>1.0</td>\n",
       "      <td>2</td>\n",
       "      <td>1.859098</td>\n",
       "      <td>1.736502</td>\n",
       "      <td>0</td>\n",
       "    </tr>\n",
       "    <tr>\n",
       "      <th>3</th>\n",
       "      <td>0</td>\n",
       "      <td>1</td>\n",
       "      <td>1</td>\n",
       "      <td>1</td>\n",
       "      <td>1</td>\n",
       "      <td>12</td>\n",
       "      <td>1</td>\n",
       "      <td>33</td>\n",
       "      <td>62.669863</td>\n",
       "      <td>12.0</td>\n",
       "      <td>2</td>\n",
       "      <td>3.205633</td>\n",
       "      <td>3.357215</td>\n",
       "      <td>0</td>\n",
       "    </tr>\n",
       "    <tr>\n",
       "      <th>4</th>\n",
       "      <td>1</td>\n",
       "      <td>1</td>\n",
       "      <td>1</td>\n",
       "      <td>1</td>\n",
       "      <td>1</td>\n",
       "      <td>1</td>\n",
       "      <td>0</td>\n",
       "      <td>26</td>\n",
       "      <td>198.362265</td>\n",
       "      <td>1.0</td>\n",
       "      <td>3</td>\n",
       "      <td>1.113884</td>\n",
       "      <td>1.120078</td>\n",
       "      <td>0</td>\n",
       "    </tr>\n",
       "    <tr>\n",
       "      <th>...</th>\n",
       "      <td>...</td>\n",
       "      <td>...</td>\n",
       "      <td>...</td>\n",
       "      <td>...</td>\n",
       "      <td>...</td>\n",
       "      <td>...</td>\n",
       "      <td>...</td>\n",
       "      <td>...</td>\n",
       "      <td>...</td>\n",
       "      <td>...</td>\n",
       "      <td>...</td>\n",
       "      <td>...</td>\n",
       "      <td>...</td>\n",
       "      <td>...</td>\n",
       "    </tr>\n",
       "    <tr>\n",
       "      <th>3995</th>\n",
       "      <td>1</td>\n",
       "      <td>1</td>\n",
       "      <td>1</td>\n",
       "      <td>0</td>\n",
       "      <td>1</td>\n",
       "      <td>12</td>\n",
       "      <td>0</td>\n",
       "      <td>33</td>\n",
       "      <td>2.406023</td>\n",
       "      <td>12.0</td>\n",
       "      <td>8</td>\n",
       "      <td>2.284497</td>\n",
       "      <td>2.349070</td>\n",
       "      <td>0</td>\n",
       "    </tr>\n",
       "    <tr>\n",
       "      <th>3996</th>\n",
       "      <td>0</td>\n",
       "      <td>1</td>\n",
       "      <td>0</td>\n",
       "      <td>0</td>\n",
       "      <td>1</td>\n",
       "      <td>1</td>\n",
       "      <td>1</td>\n",
       "      <td>29</td>\n",
       "      <td>68.883764</td>\n",
       "      <td>1.0</td>\n",
       "      <td>1</td>\n",
       "      <td>1.277168</td>\n",
       "      <td>0.292859</td>\n",
       "      <td>1</td>\n",
       "    </tr>\n",
       "    <tr>\n",
       "      <th>3997</th>\n",
       "      <td>1</td>\n",
       "      <td>1</td>\n",
       "      <td>1</td>\n",
       "      <td>1</td>\n",
       "      <td>1</td>\n",
       "      <td>12</td>\n",
       "      <td>0</td>\n",
       "      <td>28</td>\n",
       "      <td>78.250542</td>\n",
       "      <td>11.0</td>\n",
       "      <td>2</td>\n",
       "      <td>2.786146</td>\n",
       "      <td>2.831439</td>\n",
       "      <td>0</td>\n",
       "    </tr>\n",
       "    <tr>\n",
       "      <th>3998</th>\n",
       "      <td>0</td>\n",
       "      <td>1</td>\n",
       "      <td>1</td>\n",
       "      <td>1</td>\n",
       "      <td>1</td>\n",
       "      <td>6</td>\n",
       "      <td>0</td>\n",
       "      <td>32</td>\n",
       "      <td>61.912657</td>\n",
       "      <td>5.0</td>\n",
       "      <td>3</td>\n",
       "      <td>1.630108</td>\n",
       "      <td>1.596237</td>\n",
       "      <td>0</td>\n",
       "    </tr>\n",
       "    <tr>\n",
       "      <th>3999</th>\n",
       "      <td>1</td>\n",
       "      <td>0</td>\n",
       "      <td>1</td>\n",
       "      <td>0</td>\n",
       "      <td>0</td>\n",
       "      <td>12</td>\n",
       "      <td>1</td>\n",
       "      <td>30</td>\n",
       "      <td>178.861814</td>\n",
       "      <td>12.0</td>\n",
       "      <td>1</td>\n",
       "      <td>1.101832</td>\n",
       "      <td>1.035270</td>\n",
       "      <td>0</td>\n",
       "    </tr>\n",
       "  </tbody>\n",
       "</table>\n",
       "<p>4000 rows × 14 columns</p>\n",
       "</div>"
      ],
      "text/plain": [
       "      gender  near_location  partner  promo_friends  phone  contract_period  \\\n",
       "0          1              1        1              1      0                6   \n",
       "1          0              1        0              0      1               12   \n",
       "2          0              1        1              0      1                1   \n",
       "3          0              1        1              1      1               12   \n",
       "4          1              1        1              1      1                1   \n",
       "...      ...            ...      ...            ...    ...              ...   \n",
       "3995       1              1        1              0      1               12   \n",
       "3996       0              1        0              0      1                1   \n",
       "3997       1              1        1              1      1               12   \n",
       "3998       0              1        1              1      1                6   \n",
       "3999       1              0        1              0      0               12   \n",
       "\n",
       "      group_visits  age  avg_additional_charges_total  month_to_end_contract  \\\n",
       "0                1   29                     14.227470                    5.0   \n",
       "1                1   31                    113.202938                   12.0   \n",
       "2                0   28                    129.448479                    1.0   \n",
       "3                1   33                     62.669863                   12.0   \n",
       "4                0   26                    198.362265                    1.0   \n",
       "...            ...  ...                           ...                    ...   \n",
       "3995             0   33                      2.406023                   12.0   \n",
       "3996             1   29                     68.883764                    1.0   \n",
       "3997             0   28                     78.250542                   11.0   \n",
       "3998             0   32                     61.912657                    5.0   \n",
       "3999             1   30                    178.861814                   12.0   \n",
       "\n",
       "      lifetime  avg_class_frequency_total  avg_class_frequency_current_month  \\\n",
       "0            3                   0.020398                           0.000000   \n",
       "1            7                   1.922936                           1.910244   \n",
       "2            2                   1.859098                           1.736502   \n",
       "3            2                   3.205633                           3.357215   \n",
       "4            3                   1.113884                           1.120078   \n",
       "...        ...                        ...                                ...   \n",
       "3995         8                   2.284497                           2.349070   \n",
       "3996         1                   1.277168                           0.292859   \n",
       "3997         2                   2.786146                           2.831439   \n",
       "3998         3                   1.630108                           1.596237   \n",
       "3999         1                   1.101832                           1.035270   \n",
       "\n",
       "      churn  \n",
       "0         0  \n",
       "1         0  \n",
       "2         0  \n",
       "3         0  \n",
       "4         0  \n",
       "...     ...  \n",
       "3995      0  \n",
       "3996      1  \n",
       "3997      0  \n",
       "3998      0  \n",
       "3999      0  \n",
       "\n",
       "[4000 rows x 14 columns]"
      ]
     },
     "execution_count": 8,
     "metadata": {},
     "output_type": "execute_result"
    }
   ],
   "source": [
    "users_gym"
   ]
  },
  {
   "cell_type": "markdown",
   "metadata": {},
   "source": [
    "# Anàlisis de la informaciòn <a id='analisis'><a/>"
   ]
  },
  {
   "cell_type": "markdown",
   "metadata": {},
   "source": [
    "**Se identifican los valores medios para los usuarios que cancelaron y los que permanecen utilizando el servicio**"
   ]
  },
  {
   "cell_type": "code",
   "execution_count": 9,
   "metadata": {},
   "outputs": [
    {
     "data": {
      "text/html": [
       "<div>\n",
       "<style scoped>\n",
       "    .dataframe tbody tr th:only-of-type {\n",
       "        vertical-align: middle;\n",
       "    }\n",
       "\n",
       "    .dataframe tbody tr th {\n",
       "        vertical-align: top;\n",
       "    }\n",
       "\n",
       "    .dataframe thead th {\n",
       "        text-align: right;\n",
       "    }\n",
       "</style>\n",
       "<table border=\"1\" class=\"dataframe\">\n",
       "  <thead>\n",
       "    <tr style=\"text-align: right;\">\n",
       "      <th></th>\n",
       "      <th>gender</th>\n",
       "      <th>near_location</th>\n",
       "      <th>partner</th>\n",
       "      <th>promo_friends</th>\n",
       "      <th>phone</th>\n",
       "      <th>contract_period</th>\n",
       "      <th>group_visits</th>\n",
       "      <th>age</th>\n",
       "      <th>avg_additional_charges_total</th>\n",
       "      <th>month_to_end_contract</th>\n",
       "      <th>lifetime</th>\n",
       "      <th>avg_class_frequency_total</th>\n",
       "      <th>avg_class_frequency_current_month</th>\n",
       "    </tr>\n",
       "    <tr>\n",
       "      <th>churn</th>\n",
       "      <th></th>\n",
       "      <th></th>\n",
       "      <th></th>\n",
       "      <th></th>\n",
       "      <th></th>\n",
       "      <th></th>\n",
       "      <th></th>\n",
       "      <th></th>\n",
       "      <th></th>\n",
       "      <th></th>\n",
       "      <th></th>\n",
       "      <th></th>\n",
       "      <th></th>\n",
       "    </tr>\n",
       "  </thead>\n",
       "  <tbody>\n",
       "    <tr>\n",
       "      <th>0</th>\n",
       "      <td>0.510037</td>\n",
       "      <td>0.873086</td>\n",
       "      <td>0.534195</td>\n",
       "      <td>0.353522</td>\n",
       "      <td>0.903709</td>\n",
       "      <td>5.747193</td>\n",
       "      <td>0.464103</td>\n",
       "      <td>29.976523</td>\n",
       "      <td>158.445715</td>\n",
       "      <td>5.283089</td>\n",
       "      <td>4.711807</td>\n",
       "      <td>2.024876</td>\n",
       "      <td>2.027882</td>\n",
       "    </tr>\n",
       "    <tr>\n",
       "      <th>1</th>\n",
       "      <td>0.510839</td>\n",
       "      <td>0.768143</td>\n",
       "      <td>0.355325</td>\n",
       "      <td>0.183789</td>\n",
       "      <td>0.902922</td>\n",
       "      <td>1.728558</td>\n",
       "      <td>0.268615</td>\n",
       "      <td>26.989632</td>\n",
       "      <td>115.082899</td>\n",
       "      <td>1.662582</td>\n",
       "      <td>0.990575</td>\n",
       "      <td>1.474995</td>\n",
       "      <td>1.044546</td>\n",
       "    </tr>\n",
       "  </tbody>\n",
       "</table>\n",
       "</div>"
      ],
      "text/plain": [
       "         gender  near_location   partner  promo_friends     phone  \\\n",
       "churn                                                               \n",
       "0      0.510037       0.873086  0.534195       0.353522  0.903709   \n",
       "1      0.510839       0.768143  0.355325       0.183789  0.902922   \n",
       "\n",
       "       contract_period  group_visits        age  avg_additional_charges_total  \\\n",
       "churn                                                                           \n",
       "0             5.747193      0.464103  29.976523                    158.445715   \n",
       "1             1.728558      0.268615  26.989632                    115.082899   \n",
       "\n",
       "       month_to_end_contract  lifetime  avg_class_frequency_total  \\\n",
       "churn                                                               \n",
       "0                   5.283089  4.711807                   2.024876   \n",
       "1                   1.662582  0.990575                   1.474995   \n",
       "\n",
       "       avg_class_frequency_current_month  \n",
       "churn                                     \n",
       "0                               2.027882  \n",
       "1                               1.044546  "
      ]
     },
     "execution_count": 9,
     "metadata": {},
     "output_type": "execute_result"
    }
   ],
   "source": [
    "users_churn=users_gym.groupby('churn').mean()\n",
    "users_churn"
   ]
  },
  {
   "cell_type": "markdown",
   "metadata": {},
   "source": [
    "**Se identifican las distribuciones de las caracterìsticas de los usuarios que cancelaron y para los que permanecen.**"
   ]
  },
  {
   "cell_type": "markdown",
   "metadata": {},
   "source": [
    "**Para analizar las distribuciones, se utilizan histogramas**"
   ]
  },
  {
   "cell_type": "markdown",
   "metadata": {},
   "source": [
    "**Se define una funciòn para analizar las distribuciones de las caracterìsticas**"
   ]
  },
  {
   "cell_type": "code",
   "execution_count": 10,
   "metadata": {},
   "outputs": [],
   "source": [
    "def distr_cancel_caracter(df, column_object, caracteristica):\n",
    "    cancel=df.groupby(column_object)[caracteristica].value_counts(normalize=True)\n",
    "    cancel.name='frecuencia'\n",
    "    cancel=cancel.to_frame().reset_index()\n",
    "    \n",
    "    #Creaciòn del histograma\n",
    "    sns.barplot(data=cancel, x=column_object, y='frecuencia', hue=caracteristica)\n",
    "    plt.title('Gráfico ' + column_object + ' vs ' + caracteristica)"
   ]
  },
  {
   "cell_type": "code",
   "execution_count": 11,
   "metadata": {},
   "outputs": [
    {
     "data": {
      "image/png": "[encoded data removed]",
      "text/plain": [
       "<Figure size 432x288 with 1 Axes>"
      ]
     },
     "metadata": {
      "needs_background": "light"
     },
     "output_type": "display_data"
    }
   ],
   "source": [
    "distr_cancel_caracter(users_gym,'churn','gender')"
   ]
  },
  {
   "cell_type": "markdown",
   "metadata": {},
   "source": [
    "La distribución de los usuarios que cancelaron que son hombres o mujeres se consideran datos muy parecidos."
   ]
  },
  {
   "cell_type": "code",
   "execution_count": 12,
   "metadata": {},
   "outputs": [
    {
     "data": {
      "image/png": "[encoded data removed]",
      "text/plain": [
       "<Figure size 432x288 with 1 Axes>"
      ]
     },
     "metadata": {
      "needs_background": "light"
     },
     "output_type": "display_data"
    }
   ],
   "source": [
    "distr_cancel_caracter(users_gym,'churn','near_location')"
   ]
  },
  {
   "cell_type": "markdown",
   "metadata": {},
   "source": [
    "De acuerdo con el histograma que relaciona la cancelación del servicio con la cercanía al gimnasio, se identifica que la mayor cantidad de usuarios que cancelaron viven en zona cercana al gimnasio."
   ]
  },
  {
   "cell_type": "code",
   "execution_count": 13,
   "metadata": {},
   "outputs": [
    {
     "data": {
      "image/png": "[encoded data removed]",
      "text/plain": [
       "<Figure size 432x288 with 1 Axes>"
      ]
     },
     "metadata": {
      "needs_background": "light"
     },
     "output_type": "display_data"
    }
   ],
   "source": [
    "distr_cancel_caracter(users_gym,'churn','partner')"
   ]
  },
  {
   "cell_type": "markdown",
   "metadata": {},
   "source": [
    "De acuerdo con el histograma que relaciona la distribución de la cancelación o no del servicio y la utilización de un patrocinador por parte los usuarios, se identifica mayor distribución de usuarios que no utilizaron un patrocinador."
   ]
  },
  {
   "cell_type": "code",
   "execution_count": 14,
   "metadata": {},
   "outputs": [
    {
     "data": {
      "image/png": "[encoded data removed]",
      "text/plain": [
       "<Figure size 432x288 with 1 Axes>"
      ]
     },
     "metadata": {
      "needs_background": "light"
     },
     "output_type": "display_data"
    }
   ],
   "source": [
    "distr_cancel_caracter(users_gym,'churn','promo_friends')"
   ]
  },
  {
   "cell_type": "markdown",
   "metadata": {},
   "source": [
    "De acuerdo con el histograma, se identifica mayor cancelaciòn para los usuarios que no utilizaron la promociòn por parte de un amigo."
   ]
  },
  {
   "cell_type": "code",
   "execution_count": 15,
   "metadata": {},
   "outputs": [
    {
     "data": {
      "image/png": "[encoded data removed]",
      "text/plain": [
       "<Figure size 432x288 with 1 Axes>"
      ]
     },
     "metadata": {
      "needs_background": "light"
     },
     "output_type": "display_data"
    }
   ],
   "source": [
    "distr_cancel_caracter(users_gym,'churn','phone')"
   ]
  },
  {
   "cell_type": "markdown",
   "metadata": {},
   "source": [
    "La distribución entre los usuarios que cancelaron y los que continúan con el servicio, y los usuarios que aportaron su contacto telefónico  y los que no, se consideran datos muy parecidos (pocas personas no aportaron su número de contacto)."
   ]
  },
  {
   "cell_type": "code",
   "execution_count": 16,
   "metadata": {},
   "outputs": [
    {
     "data": {
      "image/png": "[encoded data removed]",
      "text/plain": [
       "<Figure size 432x288 with 1 Axes>"
      ]
     },
     "metadata": {
      "needs_background": "light"
     },
     "output_type": "display_data"
    }
   ],
   "source": [
    "distr_cancel_caracter(users_gym,'churn','group_visits')"
   ]
  },
  {
   "cell_type": "markdown",
   "metadata": {},
   "source": [
    "De acuerdo con el histograma los usuarios usuarios que cancelan, en su mayorìa no participan de sesiones grupales."
   ]
  },
  {
   "cell_type": "code",
   "execution_count": 17,
   "metadata": {},
   "outputs": [
    {
     "data": {
      "image/png": "[encoded data removed]",
      "text/plain": [
       "<Figure size 432x288 with 1 Axes>"
      ]
     },
     "metadata": {
      "needs_background": "light"
     },
     "output_type": "display_data"
    }
   ],
   "source": [
    "distr_cancel_caracter(users_gym,'contract_period','churn')"
   ]
  },
  {
   "cell_type": "markdown",
   "metadata": {},
   "source": [
    "De acuerdo con el histograma, entre mayor es el tiempo de contrato menor es el número de cancelaciones por parte de los usuarios."
   ]
  },
  {
   "cell_type": "code",
   "execution_count": 18,
   "metadata": {},
   "outputs": [
    {
     "data": {
      "image/png": "[encoded data removed]",
      "text/plain": [
       "<Figure size 432x288 with 1 Axes>"
      ]
     },
     "metadata": {
      "needs_background": "light"
     },
     "output_type": "display_data"
    }
   ],
   "source": [
    "distr_cancel_caracter(users_gym,'age','churn',)"
   ]
  },
  {
   "cell_type": "markdown",
   "metadata": {},
   "source": [
    "De acuerdo con el histograma, la tendencia a cancelar por parte de los usuarios es mayor para los usuarios mas jóvenes."
   ]
  },
  {
   "cell_type": "code",
   "execution_count": 19,
   "metadata": {},
   "outputs": [
    {
     "data": {
      "image/png": "[encoded data removed]",
      "text/plain": [
       "<Figure size 432x288 with 1 Axes>"
      ]
     },
     "metadata": {
      "needs_background": "light"
     },
     "output_type": "display_data"
    }
   ],
   "source": [
    "distr_cancel_caracter(users_gym,'lifetime','churn')"
   ]
  },
  {
   "cell_type": "markdown",
   "metadata": {},
   "source": [
    "La distribución de usuarios que cancelan es menor para los usuarios que han permanecido en el gimnasio por mas tiempo, es decir que entre mas tiempo en meses por parte de los usuarios menor es la cancelación."
   ]
  },
  {
   "cell_type": "code",
   "execution_count": 20,
   "metadata": {},
   "outputs": [
    {
     "data": {
      "image/png": "[encoded data removed]",
      "text/plain": [
       "<Figure size 432x288 with 1 Axes>"
      ]
     },
     "metadata": {
      "needs_background": "light"
     },
     "output_type": "display_data"
    }
   ],
   "source": [
    "distr_cancel_caracter(users_gym,'month_to_end_contract','churn')"
   ]
  },
  {
   "cell_type": "markdown",
   "metadata": {},
   "source": [
    "De acuerdo con el histograma, se identifica que entre mas tiempo haya pasado desde que el usuario llega por primera vez menor es la cancelaciòn del servicio."
   ]
  },
  {
   "cell_type": "markdown",
   "metadata": {},
   "source": [
    "**Se analiza la relaciòn de las caracterìsticas cuantitativas con la cancelaciòn del servicio**"
   ]
  },
  {
   "cell_type": "markdown",
   "metadata": {},
   "source": [
    "**Se filtran los usuarios que no cancelan el servicio.**"
   ]
  },
  {
   "cell_type": "code",
   "execution_count": 21,
   "metadata": {},
   "outputs": [],
   "source": [
    "churn_0=users_gym.query('churn==0')"
   ]
  },
  {
   "cell_type": "code",
   "execution_count": 22,
   "metadata": {
    "scrolled": true
   },
   "outputs": [
    {
     "data": {
      "text/html": [
       "<div>\n",
       "<style scoped>\n",
       "    .dataframe tbody tr th:only-of-type {\n",
       "        vertical-align: middle;\n",
       "    }\n",
       "\n",
       "    .dataframe tbody tr th {\n",
       "        vertical-align: top;\n",
       "    }\n",
       "\n",
       "    .dataframe thead th {\n",
       "        text-align: right;\n",
       "    }\n",
       "</style>\n",
       "<table border=\"1\" class=\"dataframe\">\n",
       "  <thead>\n",
       "    <tr style=\"text-align: right;\">\n",
       "      <th></th>\n",
       "      <th>gender</th>\n",
       "      <th>near_location</th>\n",
       "      <th>partner</th>\n",
       "      <th>promo_friends</th>\n",
       "      <th>phone</th>\n",
       "      <th>contract_period</th>\n",
       "      <th>group_visits</th>\n",
       "      <th>age</th>\n",
       "      <th>avg_additional_charges_total</th>\n",
       "      <th>month_to_end_contract</th>\n",
       "      <th>lifetime</th>\n",
       "      <th>avg_class_frequency_total</th>\n",
       "      <th>avg_class_frequency_current_month</th>\n",
       "      <th>churn</th>\n",
       "    </tr>\n",
       "  </thead>\n",
       "  <tbody>\n",
       "    <tr>\n",
       "      <th>0</th>\n",
       "      <td>1</td>\n",
       "      <td>1</td>\n",
       "      <td>1</td>\n",
       "      <td>1</td>\n",
       "      <td>0</td>\n",
       "      <td>6</td>\n",
       "      <td>1</td>\n",
       "      <td>29</td>\n",
       "      <td>14.227470</td>\n",
       "      <td>5.0</td>\n",
       "      <td>3</td>\n",
       "      <td>0.020398</td>\n",
       "      <td>0.000000</td>\n",
       "      <td>0</td>\n",
       "    </tr>\n",
       "    <tr>\n",
       "      <th>1</th>\n",
       "      <td>0</td>\n",
       "      <td>1</td>\n",
       "      <td>0</td>\n",
       "      <td>0</td>\n",
       "      <td>1</td>\n",
       "      <td>12</td>\n",
       "      <td>1</td>\n",
       "      <td>31</td>\n",
       "      <td>113.202938</td>\n",
       "      <td>12.0</td>\n",
       "      <td>7</td>\n",
       "      <td>1.922936</td>\n",
       "      <td>1.910244</td>\n",
       "      <td>0</td>\n",
       "    </tr>\n",
       "    <tr>\n",
       "      <th>2</th>\n",
       "      <td>0</td>\n",
       "      <td>1</td>\n",
       "      <td>1</td>\n",
       "      <td>0</td>\n",
       "      <td>1</td>\n",
       "      <td>1</td>\n",
       "      <td>0</td>\n",
       "      <td>28</td>\n",
       "      <td>129.448479</td>\n",
       "      <td>1.0</td>\n",
       "      <td>2</td>\n",
       "      <td>1.859098</td>\n",
       "      <td>1.736502</td>\n",
       "      <td>0</td>\n",
       "    </tr>\n",
       "    <tr>\n",
       "      <th>3</th>\n",
       "      <td>0</td>\n",
       "      <td>1</td>\n",
       "      <td>1</td>\n",
       "      <td>1</td>\n",
       "      <td>1</td>\n",
       "      <td>12</td>\n",
       "      <td>1</td>\n",
       "      <td>33</td>\n",
       "      <td>62.669863</td>\n",
       "      <td>12.0</td>\n",
       "      <td>2</td>\n",
       "      <td>3.205633</td>\n",
       "      <td>3.357215</td>\n",
       "      <td>0</td>\n",
       "    </tr>\n",
       "    <tr>\n",
       "      <th>4</th>\n",
       "      <td>1</td>\n",
       "      <td>1</td>\n",
       "      <td>1</td>\n",
       "      <td>1</td>\n",
       "      <td>1</td>\n",
       "      <td>1</td>\n",
       "      <td>0</td>\n",
       "      <td>26</td>\n",
       "      <td>198.362265</td>\n",
       "      <td>1.0</td>\n",
       "      <td>3</td>\n",
       "      <td>1.113884</td>\n",
       "      <td>1.120078</td>\n",
       "      <td>0</td>\n",
       "    </tr>\n",
       "    <tr>\n",
       "      <th>...</th>\n",
       "      <td>...</td>\n",
       "      <td>...</td>\n",
       "      <td>...</td>\n",
       "      <td>...</td>\n",
       "      <td>...</td>\n",
       "      <td>...</td>\n",
       "      <td>...</td>\n",
       "      <td>...</td>\n",
       "      <td>...</td>\n",
       "      <td>...</td>\n",
       "      <td>...</td>\n",
       "      <td>...</td>\n",
       "      <td>...</td>\n",
       "      <td>...</td>\n",
       "    </tr>\n",
       "    <tr>\n",
       "      <th>3993</th>\n",
       "      <td>0</td>\n",
       "      <td>1</td>\n",
       "      <td>1</td>\n",
       "      <td>0</td>\n",
       "      <td>1</td>\n",
       "      <td>1</td>\n",
       "      <td>0</td>\n",
       "      <td>33</td>\n",
       "      <td>231.778628</td>\n",
       "      <td>1.0</td>\n",
       "      <td>3</td>\n",
       "      <td>1.418791</td>\n",
       "      <td>1.450442</td>\n",
       "      <td>0</td>\n",
       "    </tr>\n",
       "    <tr>\n",
       "      <th>3995</th>\n",
       "      <td>1</td>\n",
       "      <td>1</td>\n",
       "      <td>1</td>\n",
       "      <td>0</td>\n",
       "      <td>1</td>\n",
       "      <td>12</td>\n",
       "      <td>0</td>\n",
       "      <td>33</td>\n",
       "      <td>2.406023</td>\n",
       "      <td>12.0</td>\n",
       "      <td>8</td>\n",
       "      <td>2.284497</td>\n",
       "      <td>2.349070</td>\n",
       "      <td>0</td>\n",
       "    </tr>\n",
       "    <tr>\n",
       "      <th>3997</th>\n",
       "      <td>1</td>\n",
       "      <td>1</td>\n",
       "      <td>1</td>\n",
       "      <td>1</td>\n",
       "      <td>1</td>\n",
       "      <td>12</td>\n",
       "      <td>0</td>\n",
       "      <td>28</td>\n",
       "      <td>78.250542</td>\n",
       "      <td>11.0</td>\n",
       "      <td>2</td>\n",
       "      <td>2.786146</td>\n",
       "      <td>2.831439</td>\n",
       "      <td>0</td>\n",
       "    </tr>\n",
       "    <tr>\n",
       "      <th>3998</th>\n",
       "      <td>0</td>\n",
       "      <td>1</td>\n",
       "      <td>1</td>\n",
       "      <td>1</td>\n",
       "      <td>1</td>\n",
       "      <td>6</td>\n",
       "      <td>0</td>\n",
       "      <td>32</td>\n",
       "      <td>61.912657</td>\n",
       "      <td>5.0</td>\n",
       "      <td>3</td>\n",
       "      <td>1.630108</td>\n",
       "      <td>1.596237</td>\n",
       "      <td>0</td>\n",
       "    </tr>\n",
       "    <tr>\n",
       "      <th>3999</th>\n",
       "      <td>1</td>\n",
       "      <td>0</td>\n",
       "      <td>1</td>\n",
       "      <td>0</td>\n",
       "      <td>0</td>\n",
       "      <td>12</td>\n",
       "      <td>1</td>\n",
       "      <td>30</td>\n",
       "      <td>178.861814</td>\n",
       "      <td>12.0</td>\n",
       "      <td>1</td>\n",
       "      <td>1.101832</td>\n",
       "      <td>1.035270</td>\n",
       "      <td>0</td>\n",
       "    </tr>\n",
       "  </tbody>\n",
       "</table>\n",
       "<p>2939 rows × 14 columns</p>\n",
       "</div>"
      ],
      "text/plain": [
       "      gender  near_location  partner  promo_friends  phone  contract_period  \\\n",
       "0          1              1        1              1      0                6   \n",
       "1          0              1        0              0      1               12   \n",
       "2          0              1        1              0      1                1   \n",
       "3          0              1        1              1      1               12   \n",
       "4          1              1        1              1      1                1   \n",
       "...      ...            ...      ...            ...    ...              ...   \n",
       "3993       0              1        1              0      1                1   \n",
       "3995       1              1        1              0      1               12   \n",
       "3997       1              1        1              1      1               12   \n",
       "3998       0              1        1              1      1                6   \n",
       "3999       1              0        1              0      0               12   \n",
       "\n",
       "      group_visits  age  avg_additional_charges_total  month_to_end_contract  \\\n",
       "0                1   29                     14.227470                    5.0   \n",
       "1                1   31                    113.202938                   12.0   \n",
       "2                0   28                    129.448479                    1.0   \n",
       "3                1   33                     62.669863                   12.0   \n",
       "4                0   26                    198.362265                    1.0   \n",
       "...            ...  ...                           ...                    ...   \n",
       "3993             0   33                    231.778628                    1.0   \n",
       "3995             0   33                      2.406023                   12.0   \n",
       "3997             0   28                     78.250542                   11.0   \n",
       "3998             0   32                     61.912657                    5.0   \n",
       "3999             1   30                    178.861814                   12.0   \n",
       "\n",
       "      lifetime  avg_class_frequency_total  avg_class_frequency_current_month  \\\n",
       "0            3                   0.020398                           0.000000   \n",
       "1            7                   1.922936                           1.910244   \n",
       "2            2                   1.859098                           1.736502   \n",
       "3            2                   3.205633                           3.357215   \n",
       "4            3                   1.113884                           1.120078   \n",
       "...        ...                        ...                                ...   \n",
       "3993         3                   1.418791                           1.450442   \n",
       "3995         8                   2.284497                           2.349070   \n",
       "3997         2                   2.786146                           2.831439   \n",
       "3998         3                   1.630108                           1.596237   \n",
       "3999         1                   1.101832                           1.035270   \n",
       "\n",
       "      churn  \n",
       "0         0  \n",
       "1         0  \n",
       "2         0  \n",
       "3         0  \n",
       "4         0  \n",
       "...     ...  \n",
       "3993      0  \n",
       "3995      0  \n",
       "3997      0  \n",
       "3998      0  \n",
       "3999      0  \n",
       "\n",
       "[2939 rows x 14 columns]"
      ]
     },
     "execution_count": 22,
     "metadata": {},
     "output_type": "execute_result"
    }
   ],
   "source": [
    "churn_0"
   ]
  },
  {
   "cell_type": "markdown",
   "metadata": {},
   "source": [
    "**Se filtran los usuarios que cancelan el servicio.**"
   ]
  },
  {
   "cell_type": "code",
   "execution_count": 23,
   "metadata": {},
   "outputs": [],
   "source": [
    "churn_1=users_gym.query('churn==1')"
   ]
  },
  {
   "cell_type": "code",
   "execution_count": 24,
   "metadata": {
    "scrolled": false
   },
   "outputs": [
    {
     "data": {
      "text/html": [
       "<div>\n",
       "<style scoped>\n",
       "    .dataframe tbody tr th:only-of-type {\n",
       "        vertical-align: middle;\n",
       "    }\n",
       "\n",
       "    .dataframe tbody tr th {\n",
       "        vertical-align: top;\n",
       "    }\n",
       "\n",
       "    .dataframe thead th {\n",
       "        text-align: right;\n",
       "    }\n",
       "</style>\n",
       "<table border=\"1\" class=\"dataframe\">\n",
       "  <thead>\n",
       "    <tr style=\"text-align: right;\">\n",
       "      <th></th>\n",
       "      <th>gender</th>\n",
       "      <th>near_location</th>\n",
       "      <th>partner</th>\n",
       "      <th>promo_friends</th>\n",
       "      <th>phone</th>\n",
       "      <th>contract_period</th>\n",
       "      <th>group_visits</th>\n",
       "      <th>age</th>\n",
       "      <th>avg_additional_charges_total</th>\n",
       "      <th>month_to_end_contract</th>\n",
       "      <th>lifetime</th>\n",
       "      <th>avg_class_frequency_total</th>\n",
       "      <th>avg_class_frequency_current_month</th>\n",
       "      <th>churn</th>\n",
       "    </tr>\n",
       "  </thead>\n",
       "  <tbody>\n",
       "    <tr>\n",
       "      <th>7</th>\n",
       "      <td>0</td>\n",
       "      <td>1</td>\n",
       "      <td>0</td>\n",
       "      <td>0</td>\n",
       "      <td>1</td>\n",
       "      <td>1</td>\n",
       "      <td>0</td>\n",
       "      <td>30</td>\n",
       "      <td>217.786641</td>\n",
       "      <td>1.0</td>\n",
       "      <td>0</td>\n",
       "      <td>1.213502</td>\n",
       "      <td>1.049387</td>\n",
       "      <td>1</td>\n",
       "    </tr>\n",
       "    <tr>\n",
       "      <th>11</th>\n",
       "      <td>1</td>\n",
       "      <td>1</td>\n",
       "      <td>1</td>\n",
       "      <td>0</td>\n",
       "      <td>1</td>\n",
       "      <td>1</td>\n",
       "      <td>0</td>\n",
       "      <td>27</td>\n",
       "      <td>266.783824</td>\n",
       "      <td>1.0</td>\n",
       "      <td>2</td>\n",
       "      <td>2.348535</td>\n",
       "      <td>1.584316</td>\n",
       "      <td>1</td>\n",
       "    </tr>\n",
       "    <tr>\n",
       "      <th>13</th>\n",
       "      <td>1</td>\n",
       "      <td>1</td>\n",
       "      <td>0</td>\n",
       "      <td>0</td>\n",
       "      <td>1</td>\n",
       "      <td>1</td>\n",
       "      <td>1</td>\n",
       "      <td>27</td>\n",
       "      <td>152.748668</td>\n",
       "      <td>1.0</td>\n",
       "      <td>1</td>\n",
       "      <td>0.000000</td>\n",
       "      <td>0.000000</td>\n",
       "      <td>1</td>\n",
       "    </tr>\n",
       "    <tr>\n",
       "      <th>21</th>\n",
       "      <td>0</td>\n",
       "      <td>0</td>\n",
       "      <td>0</td>\n",
       "      <td>0</td>\n",
       "      <td>1</td>\n",
       "      <td>1</td>\n",
       "      <td>0</td>\n",
       "      <td>30</td>\n",
       "      <td>153.198594</td>\n",
       "      <td>1.0</td>\n",
       "      <td>3</td>\n",
       "      <td>0.636382</td>\n",
       "      <td>0.000000</td>\n",
       "      <td>1</td>\n",
       "    </tr>\n",
       "    <tr>\n",
       "      <th>23</th>\n",
       "      <td>1</td>\n",
       "      <td>1</td>\n",
       "      <td>0</td>\n",
       "      <td>0</td>\n",
       "      <td>1</td>\n",
       "      <td>1</td>\n",
       "      <td>1</td>\n",
       "      <td>32</td>\n",
       "      <td>276.079882</td>\n",
       "      <td>1.0</td>\n",
       "      <td>1</td>\n",
       "      <td>1.420637</td>\n",
       "      <td>1.043101</td>\n",
       "      <td>1</td>\n",
       "    </tr>\n",
       "    <tr>\n",
       "      <th>...</th>\n",
       "      <td>...</td>\n",
       "      <td>...</td>\n",
       "      <td>...</td>\n",
       "      <td>...</td>\n",
       "      <td>...</td>\n",
       "      <td>...</td>\n",
       "      <td>...</td>\n",
       "      <td>...</td>\n",
       "      <td>...</td>\n",
       "      <td>...</td>\n",
       "      <td>...</td>\n",
       "      <td>...</td>\n",
       "      <td>...</td>\n",
       "      <td>...</td>\n",
       "    </tr>\n",
       "    <tr>\n",
       "      <th>3982</th>\n",
       "      <td>1</td>\n",
       "      <td>1</td>\n",
       "      <td>0</td>\n",
       "      <td>0</td>\n",
       "      <td>1</td>\n",
       "      <td>1</td>\n",
       "      <td>0</td>\n",
       "      <td>24</td>\n",
       "      <td>135.395712</td>\n",
       "      <td>1.0</td>\n",
       "      <td>0</td>\n",
       "      <td>1.390251</td>\n",
       "      <td>0.789321</td>\n",
       "      <td>1</td>\n",
       "    </tr>\n",
       "    <tr>\n",
       "      <th>3984</th>\n",
       "      <td>1</td>\n",
       "      <td>1</td>\n",
       "      <td>0</td>\n",
       "      <td>0</td>\n",
       "      <td>1</td>\n",
       "      <td>6</td>\n",
       "      <td>1</td>\n",
       "      <td>22</td>\n",
       "      <td>101.107544</td>\n",
       "      <td>6.0</td>\n",
       "      <td>2</td>\n",
       "      <td>1.377860</td>\n",
       "      <td>0.343915</td>\n",
       "      <td>1</td>\n",
       "    </tr>\n",
       "    <tr>\n",
       "      <th>3986</th>\n",
       "      <td>0</td>\n",
       "      <td>1</td>\n",
       "      <td>1</td>\n",
       "      <td>1</td>\n",
       "      <td>1</td>\n",
       "      <td>1</td>\n",
       "      <td>1</td>\n",
       "      <td>34</td>\n",
       "      <td>226.804845</td>\n",
       "      <td>1.0</td>\n",
       "      <td>0</td>\n",
       "      <td>1.399529</td>\n",
       "      <td>0.304130</td>\n",
       "      <td>1</td>\n",
       "    </tr>\n",
       "    <tr>\n",
       "      <th>3994</th>\n",
       "      <td>1</td>\n",
       "      <td>1</td>\n",
       "      <td>0</td>\n",
       "      <td>0</td>\n",
       "      <td>1</td>\n",
       "      <td>1</td>\n",
       "      <td>0</td>\n",
       "      <td>26</td>\n",
       "      <td>31.066721</td>\n",
       "      <td>1.0</td>\n",
       "      <td>1</td>\n",
       "      <td>1.157451</td>\n",
       "      <td>0.269597</td>\n",
       "      <td>1</td>\n",
       "    </tr>\n",
       "    <tr>\n",
       "      <th>3996</th>\n",
       "      <td>0</td>\n",
       "      <td>1</td>\n",
       "      <td>0</td>\n",
       "      <td>0</td>\n",
       "      <td>1</td>\n",
       "      <td>1</td>\n",
       "      <td>1</td>\n",
       "      <td>29</td>\n",
       "      <td>68.883764</td>\n",
       "      <td>1.0</td>\n",
       "      <td>1</td>\n",
       "      <td>1.277168</td>\n",
       "      <td>0.292859</td>\n",
       "      <td>1</td>\n",
       "    </tr>\n",
       "  </tbody>\n",
       "</table>\n",
       "<p>1061 rows × 14 columns</p>\n",
       "</div>"
      ],
      "text/plain": [
       "      gender  near_location  partner  promo_friends  phone  contract_period  \\\n",
       "7          0              1        0              0      1                1   \n",
       "11         1              1        1              0      1                1   \n",
       "13         1              1        0              0      1                1   \n",
       "21         0              0        0              0      1                1   \n",
       "23         1              1        0              0      1                1   \n",
       "...      ...            ...      ...            ...    ...              ...   \n",
       "3982       1              1        0              0      1                1   \n",
       "3984       1              1        0              0      1                6   \n",
       "3986       0              1        1              1      1                1   \n",
       "3994       1              1        0              0      1                1   \n",
       "3996       0              1        0              0      1                1   \n",
       "\n",
       "      group_visits  age  avg_additional_charges_total  month_to_end_contract  \\\n",
       "7                0   30                    217.786641                    1.0   \n",
       "11               0   27                    266.783824                    1.0   \n",
       "13               1   27                    152.748668                    1.0   \n",
       "21               0   30                    153.198594                    1.0   \n",
       "23               1   32                    276.079882                    1.0   \n",
       "...            ...  ...                           ...                    ...   \n",
       "3982             0   24                    135.395712                    1.0   \n",
       "3984             1   22                    101.107544                    6.0   \n",
       "3986             1   34                    226.804845                    1.0   \n",
       "3994             0   26                     31.066721                    1.0   \n",
       "3996             1   29                     68.883764                    1.0   \n",
       "\n",
       "      lifetime  avg_class_frequency_total  avg_class_frequency_current_month  \\\n",
       "7            0                   1.213502                           1.049387   \n",
       "11           2                   2.348535                           1.584316   \n",
       "13           1                   0.000000                           0.000000   \n",
       "21           3                   0.636382                           0.000000   \n",
       "23           1                   1.420637                           1.043101   \n",
       "...        ...                        ...                                ...   \n",
       "3982         0                   1.390251                           0.789321   \n",
       "3984         2                   1.377860                           0.343915   \n",
       "3986         0                   1.399529                           0.304130   \n",
       "3994         1                   1.157451                           0.269597   \n",
       "3996         1                   1.277168                           0.292859   \n",
       "\n",
       "      churn  \n",
       "7         1  \n",
       "11        1  \n",
       "13        1  \n",
       "21        1  \n",
       "23        1  \n",
       "...     ...  \n",
       "3982      1  \n",
       "3984      1  \n",
       "3986      1  \n",
       "3994      1  \n",
       "3996      1  \n",
       "\n",
       "[1061 rows x 14 columns]"
      ]
     },
     "execution_count": 24,
     "metadata": {},
     "output_type": "execute_result"
    }
   ],
   "source": [
    "churn_1"
   ]
  },
  {
   "cell_type": "markdown",
   "metadata": {},
   "source": [
    "**Se grafican histogramas para verificar la relaciòn de las caracterìsticas cuantitativas con la cancelaciòn o no del servicio**"
   ]
  },
  {
   "cell_type": "code",
   "execution_count": 25,
   "metadata": {},
   "outputs": [
    {
     "data": {
      "image/png": "[encoded data removed]",
      "text/plain": [
       "<Figure size 432x288 with 1 Axes>"
      ]
     },
     "metadata": {
      "needs_background": "light"
     },
     "output_type": "display_data"
    }
   ],
   "source": [
    "plt.hist(churn_0['avg_class_frequency_total'],label='No cancelaciones vs frecuencia de visitas por semana',alpha=0.7,edgecolor='green')\n",
    "plt.hist(churn_1['avg_class_frequency_total'],label='Cancelaciones vs frecuencia de visitas por semana',alpha=0.7,edgecolor='red')\n",
    "plt.legend()\n",
    "plt.show()"
   ]
  },
  {
   "cell_type": "markdown",
   "metadata": {},
   "source": [
    "De acuerdo con el histograma, los usuarios que cancelan frecuentan menos el gimnasio en la semana ."
   ]
  },
  {
   "cell_type": "code",
   "execution_count": 26,
   "metadata": {},
   "outputs": [
    {
     "data": {
      "image/png": "[encoded data removed]",
      "text/plain": [
       "<Figure size 432x288 with 1 Axes>"
      ]
     },
     "metadata": {
      "needs_background": "light"
     },
     "output_type": "display_data"
    }
   ],
   "source": [
    "plt.hist(churn_0['avg_class_frequency_current_month'],label='No cancelaciones vs frecuencia de visitas por semana en el mes',alpha=0.7,edgecolor='green')\n",
    "plt.hist(churn_1['avg_class_frequency_current_month'],label='Cancelaciones vs frecuencia de visitas por semana en el mes',alpha=0.7,edgecolor='red')\n",
    "plt.legend()\n",
    "plt.show()"
   ]
  },
  {
   "cell_type": "markdown",
   "metadata": {},
   "source": [
    "Los usuarios que cancelan, frecuentan menos el gimnasio en semana en el mes."
   ]
  },
  {
   "cell_type": "code",
   "execution_count": 27,
   "metadata": {},
   "outputs": [
    {
     "data": {
      "image/png": "[encoded data removed]",
      "text/plain": [
       "<Figure size 432x288 with 1 Axes>"
      ]
     },
     "metadata": {
      "needs_background": "light"
     },
     "output_type": "display_data"
    }
   ],
   "source": [
    "plt.hist(churn_0['avg_additional_charges_total'],label='No cancelaciones vs gastos en otros servicios',alpha=0.7,edgecolor='green')\n",
    "plt.hist(churn_1['avg_additional_charges_total'],label='Cancelaciones vs gastos en otros servicios',alpha=0.7,edgecolor='red')\n",
    "plt.legend()\n",
    "plt.show()"
   ]
  },
  {
   "cell_type": "markdown",
   "metadata": {},
   "source": [
    "Los usuarios que tienden a gastar menor cantidad de dinero en otros servicios, tienden a reportar mayor cantidad de cancelaciones."
   ]
  },
  {
   "cell_type": "markdown",
   "metadata": {},
   "source": [
    "**Se crea una matrìz de correlaciòn para verificar la relaciòn entre las caracterìsticas.**"
   ]
  },
  {
   "cell_type": "code",
   "execution_count": 28,
   "metadata": {
    "scrolled": false
   },
   "outputs": [
    {
     "data": {
      "text/html": [
       "<style  type=\"text/css\" >\n",
       "#T_a29cf_row0_col0,#T_a29cf_row1_col1,#T_a29cf_row2_col2,#T_a29cf_row3_col3,#T_a29cf_row4_col4,#T_a29cf_row5_col5,#T_a29cf_row6_col6,#T_a29cf_row7_col7,#T_a29cf_row8_col8,#T_a29cf_row9_col9,#T_a29cf_row10_col10,#T_a29cf_row11_col11,#T_a29cf_row12_col12,#T_a29cf_row13_col13{\n",
       "            background-color:  #b40426;\n",
       "            color:  #f1f1f1;\n",
       "        }#T_a29cf_row0_col1{\n",
       "            background-color:  #5f7fe8;\n",
       "            color:  #000000;\n",
       "        }#T_a29cf_row0_col2{\n",
       "            background-color:  #6282ea;\n",
       "            color:  #000000;\n",
       "        }#T_a29cf_row0_col3{\n",
       "            background-color:  #6485ec;\n",
       "            color:  #000000;\n",
       "        }#T_a29cf_row0_col4,#T_a29cf_row5_col0,#T_a29cf_row5_col4,#T_a29cf_row6_col4,#T_a29cf_row9_col0,#T_a29cf_row13_col0{\n",
       "            background-color:  #3d50c3;\n",
       "            color:  #f1f1f1;\n",
       "        }#T_a29cf_row0_col5,#T_a29cf_row1_col6,#T_a29cf_row4_col7{\n",
       "            background-color:  #97b8ff;\n",
       "            color:  #000000;\n",
       "        }#T_a29cf_row0_col6,#T_a29cf_row7_col1,#T_a29cf_row8_col13{\n",
       "            background-color:  #6f92f3;\n",
       "            color:  #000000;\n",
       "        }#T_a29cf_row0_col7,#T_a29cf_row0_col12,#T_a29cf_row3_col1{\n",
       "            background-color:  #9ebeff;\n",
       "            color:  #000000;\n",
       "        }#T_a29cf_row0_col8,#T_a29cf_row11_col2{\n",
       "            background-color:  #6c8ff1;\n",
       "            color:  #000000;\n",
       "        }#T_a29cf_row0_col9,#T_a29cf_row4_col5,#T_a29cf_row5_col11{\n",
       "            background-color:  #96b7ff;\n",
       "            color:  #000000;\n",
       "        }#T_a29cf_row0_col10{\n",
       "            background-color:  #a3c2fe;\n",
       "            color:  #000000;\n",
       "        }#T_a29cf_row0_col11,#T_a29cf_row10_col6,#T_a29cf_row12_col6{\n",
       "            background-color:  #80a3fa;\n",
       "            color:  #000000;\n",
       "        }#T_a29cf_row0_col13{\n",
       "            background-color:  #a1c0ff;\n",
       "            color:  #000000;\n",
       "        }#T_a29cf_row1_col0,#T_a29cf_row12_col0,#T_a29cf_row12_col13,#T_a29cf_row13_col4{\n",
       "            background-color:  #3f53c6;\n",
       "            color:  #f1f1f1;\n",
       "        }#T_a29cf_row1_col2,#T_a29cf_row11_col13{\n",
       "            background-color:  #6384eb;\n",
       "            color:  #000000;\n",
       "        }#T_a29cf_row1_col3,#T_a29cf_row2_col7,#T_a29cf_row2_col12,#T_a29cf_row3_col7{\n",
       "            background-color:  #a6c4fe;\n",
       "            color:  #000000;\n",
       "        }#T_a29cf_row1_col4,#T_a29cf_row2_col0,#T_a29cf_row4_col0,#T_a29cf_row8_col0,#T_a29cf_row10_col4,#T_a29cf_row10_col13,#T_a29cf_row13_col1,#T_a29cf_row13_col2,#T_a29cf_row13_col3,#T_a29cf_row13_col5,#T_a29cf_row13_col6,#T_a29cf_row13_col7,#T_a29cf_row13_col8,#T_a29cf_row13_col9,#T_a29cf_row13_col10,#T_a29cf_row13_col11,#T_a29cf_row13_col12{\n",
       "            background-color:  #3b4cc0;\n",
       "            color:  #f1f1f1;\n",
       "        }#T_a29cf_row1_col5{\n",
       "            background-color:  #bcd2f7;\n",
       "            color:  #000000;\n",
       "        }#T_a29cf_row1_col7,#T_a29cf_row3_col12{\n",
       "            background-color:  #a9c6fd;\n",
       "            color:  #000000;\n",
       "        }#T_a29cf_row1_col8,#T_a29cf_row10_col3,#T_a29cf_row11_col8{\n",
       "            background-color:  #7b9ff9;\n",
       "            color:  #000000;\n",
       "        }#T_a29cf_row1_col9,#T_a29cf_row7_col5,#T_a29cf_row11_col10{\n",
       "            background-color:  #bad0f8;\n",
       "            color:  #000000;\n",
       "        }#T_a29cf_row1_col10,#T_a29cf_row3_col10{\n",
       "            background-color:  #b1cbfc;\n",
       "            color:  #000000;\n",
       "        }#T_a29cf_row1_col11,#T_a29cf_row7_col8,#T_a29cf_row10_col8,#T_a29cf_row12_col8{\n",
       "            background-color:  #86a9fc;\n",
       "            color:  #000000;\n",
       "        }#T_a29cf_row1_col12,#T_a29cf_row11_col9{\n",
       "            background-color:  #abc8fd;\n",
       "            color:  #000000;\n",
       "        }#T_a29cf_row1_col13,#T_a29cf_row7_col6{\n",
       "            background-color:  #81a4fb;\n",
       "            color:  #000000;\n",
       "        }#T_a29cf_row2_col1{\n",
       "            background-color:  #5b7ae5;\n",
       "            color:  #000000;\n",
       "        }#T_a29cf_row2_col3{\n",
       "            background-color:  #e4d9d2;\n",
       "            color:  #000000;\n",
       "        }#T_a29cf_row2_col4,#T_a29cf_row6_col0,#T_a29cf_row8_col4{\n",
       "            background-color:  #4358cb;\n",
       "            color:  #f1f1f1;\n",
       "        }#T_a29cf_row2_col5{\n",
       "            background-color:  #dddcdc;\n",
       "            color:  #000000;\n",
       "        }#T_a29cf_row2_col6,#T_a29cf_row8_col3,#T_a29cf_row12_col1{\n",
       "            background-color:  #7093f3;\n",
       "            color:  #000000;\n",
       "        }#T_a29cf_row2_col8,#T_a29cf_row12_col3{\n",
       "            background-color:  #7699f6;\n",
       "            color:  #000000;\n",
       "        }#T_a29cf_row2_col9{\n",
       "            background-color:  #dadce0;\n",
       "            color:  #000000;\n",
       "        }#T_a29cf_row2_col10,#T_a29cf_row6_col7,#T_a29cf_row6_col12,#T_a29cf_row8_col7,#T_a29cf_row9_col3{\n",
       "            background-color:  #aec9fc;\n",
       "            color:  #000000;\n",
       "        }#T_a29cf_row2_col11,#T_a29cf_row3_col11{\n",
       "            background-color:  #82a6fb;\n",
       "            color:  #000000;\n",
       "        }#T_a29cf_row2_col13,#T_a29cf_row3_col13,#T_a29cf_row6_col8{\n",
       "            background-color:  #799cf8;\n",
       "            color:  #000000;\n",
       "        }#T_a29cf_row3_col0,#T_a29cf_row7_col4,#T_a29cf_row9_col4{\n",
       "            background-color:  #3c4ec2;\n",
       "            color:  #f1f1f1;\n",
       "        }#T_a29cf_row3_col2{\n",
       "            background-color:  #e3d9d3;\n",
       "            color:  #000000;\n",
       "        }#T_a29cf_row3_col4,#T_a29cf_row7_col13{\n",
       "            background-color:  #4055c8;\n",
       "            color:  #f1f1f1;\n",
       "        }#T_a29cf_row3_col5{\n",
       "            background-color:  #d1dae9;\n",
       "            color:  #000000;\n",
       "        }#T_a29cf_row3_col6,#T_a29cf_row6_col1{\n",
       "            background-color:  #8db0fe;\n",
       "            color:  #000000;\n",
       "        }#T_a29cf_row3_col8,#T_a29cf_row11_col6{\n",
       "            background-color:  #7a9df8;\n",
       "            color:  #000000;\n",
       "        }#T_a29cf_row3_col9{\n",
       "            background-color:  #cfdaea;\n",
       "            color:  #000000;\n",
       "        }#T_a29cf_row4_col1{\n",
       "            background-color:  #5977e3;\n",
       "            color:  #000000;\n",
       "        }#T_a29cf_row4_col2{\n",
       "            background-color:  #688aef;\n",
       "            color:  #000000;\n",
       "        }#T_a29cf_row4_col3{\n",
       "            background-color:  #6788ee;\n",
       "            color:  #000000;\n",
       "        }#T_a29cf_row4_col6{\n",
       "            background-color:  #6687ed;\n",
       "            color:  #000000;\n",
       "        }#T_a29cf_row4_col8,#T_a29cf_row12_col2{\n",
       "            background-color:  #7295f4;\n",
       "            color:  #000000;\n",
       "        }#T_a29cf_row4_col9,#T_a29cf_row9_col11{\n",
       "            background-color:  #93b5fe;\n",
       "            color:  #000000;\n",
       "        }#T_a29cf_row4_col10,#T_a29cf_row10_col11{\n",
       "            background-color:  #9bbcff;\n",
       "            color:  #000000;\n",
       "        }#T_a29cf_row4_col11{\n",
       "            background-color:  #7da0f9;\n",
       "            color:  #000000;\n",
       "        }#T_a29cf_row4_col12,#T_a29cf_row4_col13{\n",
       "            background-color:  #9fbfff;\n",
       "            color:  #000000;\n",
       "        }#T_a29cf_row5_col1{\n",
       "            background-color:  #8caffe;\n",
       "            color:  #000000;\n",
       "        }#T_a29cf_row5_col2{\n",
       "            background-color:  #c0d4f5;\n",
       "            color:  #000000;\n",
       "        }#T_a29cf_row5_col3,#T_a29cf_row8_col12,#T_a29cf_row11_col5{\n",
       "            background-color:  #afcafc;\n",
       "            color:  #000000;\n",
       "        }#T_a29cf_row5_col6,#T_a29cf_row7_col11{\n",
       "            background-color:  #9dbdff;\n",
       "            color:  #000000;\n",
       "        }#T_a29cf_row5_col7,#T_a29cf_row9_col7,#T_a29cf_row12_col9{\n",
       "            background-color:  #bbd1f8;\n",
       "            color:  #000000;\n",
       "        }#T_a29cf_row5_col8,#T_a29cf_row9_col8{\n",
       "            background-color:  #90b2fe;\n",
       "            color:  #000000;\n",
       "        }#T_a29cf_row5_col9,#T_a29cf_row9_col5{\n",
       "            background-color:  #ba162b;\n",
       "            color:  #f1f1f1;\n",
       "        }#T_a29cf_row5_col10{\n",
       "            background-color:  #c7d7f0;\n",
       "            color:  #000000;\n",
       "        }#T_a29cf_row5_col12,#T_a29cf_row6_col5,#T_a29cf_row10_col5,#T_a29cf_row10_col7{\n",
       "            background-color:  #c1d4f4;\n",
       "            color:  #000000;\n",
       "        }#T_a29cf_row5_col13,#T_a29cf_row12_col4{\n",
       "            background-color:  #445acc;\n",
       "            color:  #f1f1f1;\n",
       "        }#T_a29cf_row6_col2,#T_a29cf_row8_col2{\n",
       "            background-color:  #6b8df0;\n",
       "            color:  #000000;\n",
       "        }#T_a29cf_row6_col3,#T_a29cf_row6_col11{\n",
       "            background-color:  #8badfd;\n",
       "            color:  #000000;\n",
       "        }#T_a29cf_row6_col9,#T_a29cf_row9_col12,#T_a29cf_row12_col5{\n",
       "            background-color:  #bfd3f6;\n",
       "            color:  #000000;\n",
       "        }#T_a29cf_row6_col10,#T_a29cf_row8_col9{\n",
       "            background-color:  #b2ccfb;\n",
       "            color:  #000000;\n",
       "        }#T_a29cf_row6_col13,#T_a29cf_row7_col3{\n",
       "            background-color:  #7597f6;\n",
       "            color:  #000000;\n",
       "        }#T_a29cf_row7_col0,#T_a29cf_row10_col0,#T_a29cf_row11_col0,#T_a29cf_row11_col4{\n",
       "            background-color:  #4257c9;\n",
       "            color:  #f1f1f1;\n",
       "        }#T_a29cf_row7_col2,#T_a29cf_row8_col6,#T_a29cf_row10_col1{\n",
       "            background-color:  #7396f5;\n",
       "            color:  #000000;\n",
       "        }#T_a29cf_row7_col9,#T_a29cf_row11_col7{\n",
       "            background-color:  #b7cff9;\n",
       "            color:  #000000;\n",
       "        }#T_a29cf_row7_col10,#T_a29cf_row7_col12,#T_a29cf_row10_col12,#T_a29cf_row12_col7{\n",
       "            background-color:  #c6d6f1;\n",
       "            color:  #000000;\n",
       "        }#T_a29cf_row8_col1,#T_a29cf_row11_col1{\n",
       "            background-color:  #6a8bef;\n",
       "            color:  #000000;\n",
       "        }#T_a29cf_row8_col5,#T_a29cf_row8_col10{\n",
       "            background-color:  #b3cdfb;\n",
       "            color:  #000000;\n",
       "        }#T_a29cf_row8_col11{\n",
       "            background-color:  #88abfd;\n",
       "            color:  #000000;\n",
       "        }#T_a29cf_row9_col1{\n",
       "            background-color:  #89acfd;\n",
       "            color:  #000000;\n",
       "        }#T_a29cf_row9_col2,#T_a29cf_row10_col9{\n",
       "            background-color:  #bed2f6;\n",
       "            color:  #000000;\n",
       "        }#T_a29cf_row9_col6{\n",
       "            background-color:  #9abbff;\n",
       "            color:  #000000;\n",
       "        }#T_a29cf_row9_col10{\n",
       "            background-color:  #c5d6f2;\n",
       "            color:  #000000;\n",
       "        }#T_a29cf_row9_col13{\n",
       "            background-color:  #465ecf;\n",
       "            color:  #f1f1f1;\n",
       "        }#T_a29cf_row10_col2{\n",
       "            background-color:  #779af7;\n",
       "            color:  #000000;\n",
       "        }#T_a29cf_row11_col3{\n",
       "            background-color:  #6e90f2;\n",
       "            color:  #000000;\n",
       "        }#T_a29cf_row11_col12{\n",
       "            background-color:  #c0282f;\n",
       "            color:  #f1f1f1;\n",
       "        }#T_a29cf_row12_col10{\n",
       "            background-color:  #cad8ef;\n",
       "            color:  #000000;\n",
       "        }#T_a29cf_row12_col11{\n",
       "            background-color:  #c12b30;\n",
       "            color:  #f1f1f1;\n",
       "        }</style><table id=\"T_a29cf_\" ><thead>    <tr>        <th class=\"blank level0\" ></th>        <th class=\"col_heading level0 col0\" >gender</th>        <th class=\"col_heading level0 col1\" >near_location</th>        <th class=\"col_heading level0 col2\" >partner</th>        <th class=\"col_heading level0 col3\" >promo_friends</th>        <th class=\"col_heading level0 col4\" >phone</th>        <th class=\"col_heading level0 col5\" >contract_period</th>        <th class=\"col_heading level0 col6\" >group_visits</th>        <th class=\"col_heading level0 col7\" >age</th>        <th class=\"col_heading level0 col8\" >avg_additional_charges_total</th>        <th class=\"col_heading level0 col9\" >month_to_end_contract</th>        <th class=\"col_heading level0 col10\" >lifetime</th>        <th class=\"col_heading level0 col11\" >avg_class_frequency_total</th>        <th class=\"col_heading level0 col12\" >avg_class_frequency_current_month</th>        <th class=\"col_heading level0 col13\" >churn</th>    </tr></thead><tbody>\n",
       "                <tr>\n",
       "                        <th id=\"T_a29cf_level0_row0\" class=\"row_heading level0 row0\" >gender</th>\n",
       "                        <td id=\"T_a29cf_row0_col0\" class=\"data row0 col0\" >1.000000</td>\n",
       "                        <td id=\"T_a29cf_row0_col1\" class=\"data row0 col1\" >0.006699</td>\n",
       "                        <td id=\"T_a29cf_row0_col2\" class=\"data row0 col2\" >-0.010463</td>\n",
       "                        <td id=\"T_a29cf_row0_col3\" class=\"data row0 col3\" >-0.005033</td>\n",
       "                        <td id=\"T_a29cf_row0_col4\" class=\"data row0 col4\" >-0.008542</td>\n",
       "                        <td id=\"T_a29cf_row0_col5\" class=\"data row0 col5\" >0.000502</td>\n",
       "                        <td id=\"T_a29cf_row0_col6\" class=\"data row0 col6\" >0.017879</td>\n",
       "                        <td id=\"T_a29cf_row0_col7\" class=\"data row0 col7\" >0.013807</td>\n",
       "                        <td id=\"T_a29cf_row0_col8\" class=\"data row0 col8\" >-0.009334</td>\n",
       "                        <td id=\"T_a29cf_row0_col9\" class=\"data row0 col9\" >-0.001281</td>\n",
       "                        <td id=\"T_a29cf_row0_col10\" class=\"data row0 col10\" >0.013579</td>\n",
       "                        <td id=\"T_a29cf_row0_col11\" class=\"data row0 col11\" >0.014620</td>\n",
       "                        <td id=\"T_a29cf_row0_col12\" class=\"data row0 col12\" >0.009156</td>\n",
       "                        <td id=\"T_a29cf_row0_col13\" class=\"data row0 col13\" >0.000708</td>\n",
       "            </tr>\n",
       "            <tr>\n",
       "                        <th id=\"T_a29cf_level0_row1\" class=\"row_heading level0 row1\" >near_location</th>\n",
       "                        <td id=\"T_a29cf_row1_col0\" class=\"data row1 col0\" >0.006699</td>\n",
       "                        <td id=\"T_a29cf_row1_col1\" class=\"data row1 col1\" >1.000000</td>\n",
       "                        <td id=\"T_a29cf_row1_col2\" class=\"data row1 col2\" >-0.005119</td>\n",
       "                        <td id=\"T_a29cf_row1_col3\" class=\"data row1 col3\" >0.210964</td>\n",
       "                        <td id=\"T_a29cf_row1_col4\" class=\"data row1 col4\" >-0.015763</td>\n",
       "                        <td id=\"T_a29cf_row1_col5\" class=\"data row1 col5\" >0.150233</td>\n",
       "                        <td id=\"T_a29cf_row1_col6\" class=\"data row1 col6\" >0.154728</td>\n",
       "                        <td id=\"T_a29cf_row1_col7\" class=\"data row1 col7\" >0.058358</td>\n",
       "                        <td id=\"T_a29cf_row1_col8\" class=\"data row1 col8\" >0.040761</td>\n",
       "                        <td id=\"T_a29cf_row1_col9\" class=\"data row1 col9\" >0.143961</td>\n",
       "                        <td id=\"T_a29cf_row1_col10\" class=\"data row1 col10\" >0.070921</td>\n",
       "                        <td id=\"T_a29cf_row1_col11\" class=\"data row1 col11\" >0.043127</td>\n",
       "                        <td id=\"T_a29cf_row1_col12\" class=\"data row1 col12\" >0.062664</td>\n",
       "                        <td id=\"T_a29cf_row1_col13\" class=\"data row1 col13\" >-0.128098</td>\n",
       "            </tr>\n",
       "            <tr>\n",
       "                        <th id=\"T_a29cf_level0_row2\" class=\"row_heading level0 row2\" >partner</th>\n",
       "                        <td id=\"T_a29cf_row2_col0\" class=\"data row2 col0\" >-0.010463</td>\n",
       "                        <td id=\"T_a29cf_row2_col1\" class=\"data row2 col1\" >-0.005119</td>\n",
       "                        <td id=\"T_a29cf_row2_col2\" class=\"data row2 col2\" >1.000000</td>\n",
       "                        <td id=\"T_a29cf_row2_col3\" class=\"data row2 col3\" >0.451960</td>\n",
       "                        <td id=\"T_a29cf_row2_col4\" class=\"data row2 col4\" >0.009970</td>\n",
       "                        <td id=\"T_a29cf_row2_col5\" class=\"data row2 col5\" >0.306166</td>\n",
       "                        <td id=\"T_a29cf_row2_col6\" class=\"data row2 col6\" >0.022710</td>\n",
       "                        <td id=\"T_a29cf_row2_col7\" class=\"data row2 col7\" >0.047480</td>\n",
       "                        <td id=\"T_a29cf_row2_col8\" class=\"data row2 col8\" >0.022941</td>\n",
       "                        <td id=\"T_a29cf_row2_col9\" class=\"data row2 col9\" >0.294632</td>\n",
       "                        <td id=\"T_a29cf_row2_col10\" class=\"data row2 col10\" >0.061229</td>\n",
       "                        <td id=\"T_a29cf_row2_col11\" class=\"data row2 col11\" >0.024938</td>\n",
       "                        <td id=\"T_a29cf_row2_col12\" class=\"data row2 col12\" >0.045561</td>\n",
       "                        <td id=\"T_a29cf_row2_col13\" class=\"data row2 col13\" >-0.157986</td>\n",
       "            </tr>\n",
       "            <tr>\n",
       "                        <th id=\"T_a29cf_level0_row3\" class=\"row_heading level0 row3\" >promo_friends</th>\n",
       "                        <td id=\"T_a29cf_row3_col0\" class=\"data row3 col0\" >-0.005033</td>\n",
       "                        <td id=\"T_a29cf_row3_col1\" class=\"data row3 col1\" >0.210964</td>\n",
       "                        <td id=\"T_a29cf_row3_col2\" class=\"data row3 col2\" >0.451960</td>\n",
       "                        <td id=\"T_a29cf_row3_col3\" class=\"data row3 col3\" >1.000000</td>\n",
       "                        <td id=\"T_a29cf_row3_col4\" class=\"data row3 col4\" >0.001982</td>\n",
       "                        <td id=\"T_a29cf_row3_col5\" class=\"data row3 col5\" >0.244552</td>\n",
       "                        <td id=\"T_a29cf_row3_col6\" class=\"data row3 col6\" >0.120170</td>\n",
       "                        <td id=\"T_a29cf_row3_col7\" class=\"data row3 col7\" >0.050113</td>\n",
       "                        <td id=\"T_a29cf_row3_col8\" class=\"data row3 col8\" >0.036898</td>\n",
       "                        <td id=\"T_a29cf_row3_col9\" class=\"data row3 col9\" >0.239553</td>\n",
       "                        <td id=\"T_a29cf_row3_col10\" class=\"data row3 col10\" >0.072721</td>\n",
       "                        <td id=\"T_a29cf_row3_col11\" class=\"data row3 col11\" >0.028063</td>\n",
       "                        <td id=\"T_a29cf_row3_col12\" class=\"data row3 col12\" >0.053768</td>\n",
       "                        <td id=\"T_a29cf_row3_col13\" class=\"data row3 col13\" >-0.162233</td>\n",
       "            </tr>\n",
       "            <tr>\n",
       "                        <th id=\"T_a29cf_level0_row4\" class=\"row_heading level0 row4\" >phone</th>\n",
       "                        <td id=\"T_a29cf_row4_col0\" class=\"data row4 col0\" >-0.008542</td>\n",
       "                        <td id=\"T_a29cf_row4_col1\" class=\"data row4 col1\" >-0.015763</td>\n",
       "                        <td id=\"T_a29cf_row4_col2\" class=\"data row4 col2\" >0.009970</td>\n",
       "                        <td id=\"T_a29cf_row4_col3\" class=\"data row4 col3\" >0.001982</td>\n",
       "                        <td id=\"T_a29cf_row4_col4\" class=\"data row4 col4\" >1.000000</td>\n",
       "                        <td id=\"T_a29cf_row4_col5\" class=\"data row4 col5\" >-0.006893</td>\n",
       "                        <td id=\"T_a29cf_row4_col6\" class=\"data row4 col6\" >-0.010099</td>\n",
       "                        <td id=\"T_a29cf_row4_col7\" class=\"data row4 col7\" >-0.011403</td>\n",
       "                        <td id=\"T_a29cf_row4_col8\" class=\"data row4 col8\" >0.009279</td>\n",
       "                        <td id=\"T_a29cf_row4_col9\" class=\"data row4 col9\" >-0.011196</td>\n",
       "                        <td id=\"T_a29cf_row4_col10\" class=\"data row4 col10\" >-0.018801</td>\n",
       "                        <td id=\"T_a29cf_row4_col11\" class=\"data row4 col11\" >0.008340</td>\n",
       "                        <td id=\"T_a29cf_row4_col12\" class=\"data row4 col12\" >0.013375</td>\n",
       "                        <td id=\"T_a29cf_row4_col13\" class=\"data row4 col13\" >-0.001177</td>\n",
       "            </tr>\n",
       "            <tr>\n",
       "                        <th id=\"T_a29cf_level0_row5\" class=\"row_heading level0 row5\" >contract_period</th>\n",
       "                        <td id=\"T_a29cf_row5_col0\" class=\"data row5 col0\" >0.000502</td>\n",
       "                        <td id=\"T_a29cf_row5_col1\" class=\"data row5 col1\" >0.150233</td>\n",
       "                        <td id=\"T_a29cf_row5_col2\" class=\"data row5 col2\" >0.306166</td>\n",
       "                        <td id=\"T_a29cf_row5_col3\" class=\"data row5 col3\" >0.244552</td>\n",
       "                        <td id=\"T_a29cf_row5_col4\" class=\"data row5 col4\" >-0.006893</td>\n",
       "                        <td id=\"T_a29cf_row5_col5\" class=\"data row5 col5\" >1.000000</td>\n",
       "                        <td id=\"T_a29cf_row5_col6\" class=\"data row5 col6\" >0.169991</td>\n",
       "                        <td id=\"T_a29cf_row5_col7\" class=\"data row5 col7\" >0.138249</td>\n",
       "                        <td id=\"T_a29cf_row5_col8\" class=\"data row5 col8\" >0.111445</td>\n",
       "                        <td id=\"T_a29cf_row5_col9\" class=\"data row5 col9\" >0.973064</td>\n",
       "                        <td id=\"T_a29cf_row5_col10\" class=\"data row5 col10\" >0.170725</td>\n",
       "                        <td id=\"T_a29cf_row5_col11\" class=\"data row5 col11\" >0.096211</td>\n",
       "                        <td id=\"T_a29cf_row5_col12\" class=\"data row5 col12\" >0.159407</td>\n",
       "                        <td id=\"T_a29cf_row5_col13\" class=\"data row5 col13\" >-0.389984</td>\n",
       "            </tr>\n",
       "            <tr>\n",
       "                        <th id=\"T_a29cf_level0_row6\" class=\"row_heading level0 row6\" >group_visits</th>\n",
       "                        <td id=\"T_a29cf_row6_col0\" class=\"data row6 col0\" >0.017879</td>\n",
       "                        <td id=\"T_a29cf_row6_col1\" class=\"data row6 col1\" >0.154728</td>\n",
       "                        <td id=\"T_a29cf_row6_col2\" class=\"data row6 col2\" >0.022710</td>\n",
       "                        <td id=\"T_a29cf_row6_col3\" class=\"data row6 col3\" >0.120170</td>\n",
       "                        <td id=\"T_a29cf_row6_col4\" class=\"data row6 col4\" >-0.010099</td>\n",
       "                        <td id=\"T_a29cf_row6_col5\" class=\"data row6 col5\" >0.169991</td>\n",
       "                        <td id=\"T_a29cf_row6_col6\" class=\"data row6 col6\" >1.000000</td>\n",
       "                        <td id=\"T_a29cf_row6_col7\" class=\"data row6 col7\" >0.080934</td>\n",
       "                        <td id=\"T_a29cf_row6_col8\" class=\"data row6 col8\" >0.032079</td>\n",
       "                        <td id=\"T_a29cf_row6_col9\" class=\"data row6 col9\" >0.163703</td>\n",
       "                        <td id=\"T_a29cf_row6_col10\" class=\"data row6 col10\" >0.075853</td>\n",
       "                        <td id=\"T_a29cf_row6_col11\" class=\"data row6 col11\" >0.056695</td>\n",
       "                        <td id=\"T_a29cf_row6_col12\" class=\"data row6 col12\" >0.075923</td>\n",
       "                        <td id=\"T_a29cf_row6_col13\" class=\"data row6 col13\" >-0.175325</td>\n",
       "            </tr>\n",
       "            <tr>\n",
       "                        <th id=\"T_a29cf_level0_row7\" class=\"row_heading level0 row7\" >age</th>\n",
       "                        <td id=\"T_a29cf_row7_col0\" class=\"data row7 col0\" >0.013807</td>\n",
       "                        <td id=\"T_a29cf_row7_col1\" class=\"data row7 col1\" >0.058358</td>\n",
       "                        <td id=\"T_a29cf_row7_col2\" class=\"data row7 col2\" >0.047480</td>\n",
       "                        <td id=\"T_a29cf_row7_col3\" class=\"data row7 col3\" >0.050113</td>\n",
       "                        <td id=\"T_a29cf_row7_col4\" class=\"data row7 col4\" >-0.011403</td>\n",
       "                        <td id=\"T_a29cf_row7_col5\" class=\"data row7 col5\" >0.138249</td>\n",
       "                        <td id=\"T_a29cf_row7_col6\" class=\"data row7 col6\" >0.080934</td>\n",
       "                        <td id=\"T_a29cf_row7_col7\" class=\"data row7 col7\" >1.000000</td>\n",
       "                        <td id=\"T_a29cf_row7_col8\" class=\"data row7 col8\" >0.080240</td>\n",
       "                        <td id=\"T_a29cf_row7_col9\" class=\"data row7 col9\" >0.134511</td>\n",
       "                        <td id=\"T_a29cf_row7_col10\" class=\"data row7 col10\" >0.164693</td>\n",
       "                        <td id=\"T_a29cf_row7_col11\" class=\"data row7 col11\" >0.119953</td>\n",
       "                        <td id=\"T_a29cf_row7_col12\" class=\"data row7 col12\" >0.183095</td>\n",
       "                        <td id=\"T_a29cf_row7_col13\" class=\"data row7 col13\" >-0.404735</td>\n",
       "            </tr>\n",
       "            <tr>\n",
       "                        <th id=\"T_a29cf_level0_row8\" class=\"row_heading level0 row8\" >avg_additional_charges_total</th>\n",
       "                        <td id=\"T_a29cf_row8_col0\" class=\"data row8 col0\" >-0.009334</td>\n",
       "                        <td id=\"T_a29cf_row8_col1\" class=\"data row8 col1\" >0.040761</td>\n",
       "                        <td id=\"T_a29cf_row8_col2\" class=\"data row8 col2\" >0.022941</td>\n",
       "                        <td id=\"T_a29cf_row8_col3\" class=\"data row8 col3\" >0.036898</td>\n",
       "                        <td id=\"T_a29cf_row8_col4\" class=\"data row8 col4\" >0.009279</td>\n",
       "                        <td id=\"T_a29cf_row8_col5\" class=\"data row8 col5\" >0.111445</td>\n",
       "                        <td id=\"T_a29cf_row8_col6\" class=\"data row8 col6\" >0.032079</td>\n",
       "                        <td id=\"T_a29cf_row8_col7\" class=\"data row8 col7\" >0.080240</td>\n",
       "                        <td id=\"T_a29cf_row8_col8\" class=\"data row8 col8\" >1.000000</td>\n",
       "                        <td id=\"T_a29cf_row8_col9\" class=\"data row8 col9\" >0.113958</td>\n",
       "                        <td id=\"T_a29cf_row8_col10\" class=\"data row8 col10\" >0.079028</td>\n",
       "                        <td id=\"T_a29cf_row8_col11\" class=\"data row8 col11\" >0.044426</td>\n",
       "                        <td id=\"T_a29cf_row8_col12\" class=\"data row8 col12\" >0.079570</td>\n",
       "                        <td id=\"T_a29cf_row8_col13\" class=\"data row8 col13\" >-0.198697</td>\n",
       "            </tr>\n",
       "            <tr>\n",
       "                        <th id=\"T_a29cf_level0_row9\" class=\"row_heading level0 row9\" >month_to_end_contract</th>\n",
       "                        <td id=\"T_a29cf_row9_col0\" class=\"data row9 col0\" >-0.001281</td>\n",
       "                        <td id=\"T_a29cf_row9_col1\" class=\"data row9 col1\" >0.143961</td>\n",
       "                        <td id=\"T_a29cf_row9_col2\" class=\"data row9 col2\" >0.294632</td>\n",
       "                        <td id=\"T_a29cf_row9_col3\" class=\"data row9 col3\" >0.239553</td>\n",
       "                        <td id=\"T_a29cf_row9_col4\" class=\"data row9 col4\" >-0.011196</td>\n",
       "                        <td id=\"T_a29cf_row9_col5\" class=\"data row9 col5\" >0.973064</td>\n",
       "                        <td id=\"T_a29cf_row9_col6\" class=\"data row9 col6\" >0.163703</td>\n",
       "                        <td id=\"T_a29cf_row9_col7\" class=\"data row9 col7\" >0.134511</td>\n",
       "                        <td id=\"T_a29cf_row9_col8\" class=\"data row9 col8\" >0.113958</td>\n",
       "                        <td id=\"T_a29cf_row9_col9\" class=\"data row9 col9\" >1.000000</td>\n",
       "                        <td id=\"T_a29cf_row9_col10\" class=\"data row9 col10\" >0.161078</td>\n",
       "                        <td id=\"T_a29cf_row9_col11\" class=\"data row9 col11\" >0.085387</td>\n",
       "                        <td id=\"T_a29cf_row9_col12\" class=\"data row9 col12\" >0.147605</td>\n",
       "                        <td id=\"T_a29cf_row9_col13\" class=\"data row9 col13\" >-0.381393</td>\n",
       "            </tr>\n",
       "            <tr>\n",
       "                        <th id=\"T_a29cf_level0_row10\" class=\"row_heading level0 row10\" >lifetime</th>\n",
       "                        <td id=\"T_a29cf_row10_col0\" class=\"data row10 col0\" >0.013579</td>\n",
       "                        <td id=\"T_a29cf_row10_col1\" class=\"data row10 col1\" >0.070921</td>\n",
       "                        <td id=\"T_a29cf_row10_col2\" class=\"data row10 col2\" >0.061229</td>\n",
       "                        <td id=\"T_a29cf_row10_col3\" class=\"data row10 col3\" >0.072721</td>\n",
       "                        <td id=\"T_a29cf_row10_col4\" class=\"data row10 col4\" >-0.018801</td>\n",
       "                        <td id=\"T_a29cf_row10_col5\" class=\"data row10 col5\" >0.170725</td>\n",
       "                        <td id=\"T_a29cf_row10_col6\" class=\"data row10 col6\" >0.075853</td>\n",
       "                        <td id=\"T_a29cf_row10_col7\" class=\"data row10 col7\" >0.164693</td>\n",
       "                        <td id=\"T_a29cf_row10_col8\" class=\"data row10 col8\" >0.079028</td>\n",
       "                        <td id=\"T_a29cf_row10_col9\" class=\"data row10 col9\" >0.161078</td>\n",
       "                        <td id=\"T_a29cf_row10_col10\" class=\"data row10 col10\" >1.000000</td>\n",
       "                        <td id=\"T_a29cf_row10_col11\" class=\"data row10 col11\" >0.112338</td>\n",
       "                        <td id=\"T_a29cf_row10_col12\" class=\"data row10 col12\" >0.181975</td>\n",
       "                        <td id=\"T_a29cf_row10_col13\" class=\"data row10 col13\" >-0.438220</td>\n",
       "            </tr>\n",
       "            <tr>\n",
       "                        <th id=\"T_a29cf_level0_row11\" class=\"row_heading level0 row11\" >avg_class_frequency_total</th>\n",
       "                        <td id=\"T_a29cf_row11_col0\" class=\"data row11 col0\" >0.014620</td>\n",
       "                        <td id=\"T_a29cf_row11_col1\" class=\"data row11 col1\" >0.043127</td>\n",
       "                        <td id=\"T_a29cf_row11_col2\" class=\"data row11 col2\" >0.024938</td>\n",
       "                        <td id=\"T_a29cf_row11_col3\" class=\"data row11 col3\" >0.028063</td>\n",
       "                        <td id=\"T_a29cf_row11_col4\" class=\"data row11 col4\" >0.008340</td>\n",
       "                        <td id=\"T_a29cf_row11_col5\" class=\"data row11 col5\" >0.096211</td>\n",
       "                        <td id=\"T_a29cf_row11_col6\" class=\"data row11 col6\" >0.056695</td>\n",
       "                        <td id=\"T_a29cf_row11_col7\" class=\"data row11 col7\" >0.119953</td>\n",
       "                        <td id=\"T_a29cf_row11_col8\" class=\"data row11 col8\" >0.044426</td>\n",
       "                        <td id=\"T_a29cf_row11_col9\" class=\"data row11 col9\" >0.085387</td>\n",
       "                        <td id=\"T_a29cf_row11_col10\" class=\"data row11 col10\" >0.112338</td>\n",
       "                        <td id=\"T_a29cf_row11_col11\" class=\"data row11 col11\" >1.000000</td>\n",
       "                        <td id=\"T_a29cf_row11_col12\" class=\"data row11 col12\" >0.952739</td>\n",
       "                        <td id=\"T_a29cf_row11_col13\" class=\"data row11 col13\" >-0.249715</td>\n",
       "            </tr>\n",
       "            <tr>\n",
       "                        <th id=\"T_a29cf_level0_row12\" class=\"row_heading level0 row12\" >avg_class_frequency_current_month</th>\n",
       "                        <td id=\"T_a29cf_row12_col0\" class=\"data row12 col0\" >0.009156</td>\n",
       "                        <td id=\"T_a29cf_row12_col1\" class=\"data row12 col1\" >0.062664</td>\n",
       "                        <td id=\"T_a29cf_row12_col2\" class=\"data row12 col2\" >0.045561</td>\n",
       "                        <td id=\"T_a29cf_row12_col3\" class=\"data row12 col3\" >0.053768</td>\n",
       "                        <td id=\"T_a29cf_row12_col4\" class=\"data row12 col4\" >0.013375</td>\n",
       "                        <td id=\"T_a29cf_row12_col5\" class=\"data row12 col5\" >0.159407</td>\n",
       "                        <td id=\"T_a29cf_row12_col6\" class=\"data row12 col6\" >0.075923</td>\n",
       "                        <td id=\"T_a29cf_row12_col7\" class=\"data row12 col7\" >0.183095</td>\n",
       "                        <td id=\"T_a29cf_row12_col8\" class=\"data row12 col8\" >0.079570</td>\n",
       "                        <td id=\"T_a29cf_row12_col9\" class=\"data row12 col9\" >0.147605</td>\n",
       "                        <td id=\"T_a29cf_row12_col10\" class=\"data row12 col10\" >0.181975</td>\n",
       "                        <td id=\"T_a29cf_row12_col11\" class=\"data row12 col11\" >0.952739</td>\n",
       "                        <td id=\"T_a29cf_row12_col12\" class=\"data row12 col12\" >1.000000</td>\n",
       "                        <td id=\"T_a29cf_row12_col13\" class=\"data row12 col13\" >-0.412348</td>\n",
       "            </tr>\n",
       "            <tr>\n",
       "                        <th id=\"T_a29cf_level0_row13\" class=\"row_heading level0 row13\" >churn</th>\n",
       "                        <td id=\"T_a29cf_row13_col0\" class=\"data row13 col0\" >0.000708</td>\n",
       "                        <td id=\"T_a29cf_row13_col1\" class=\"data row13 col1\" >-0.128098</td>\n",
       "                        <td id=\"T_a29cf_row13_col2\" class=\"data row13 col2\" >-0.157986</td>\n",
       "                        <td id=\"T_a29cf_row13_col3\" class=\"data row13 col3\" >-0.162233</td>\n",
       "                        <td id=\"T_a29cf_row13_col4\" class=\"data row13 col4\" >-0.001177</td>\n",
       "                        <td id=\"T_a29cf_row13_col5\" class=\"data row13 col5\" >-0.389984</td>\n",
       "                        <td id=\"T_a29cf_row13_col6\" class=\"data row13 col6\" >-0.175325</td>\n",
       "                        <td id=\"T_a29cf_row13_col7\" class=\"data row13 col7\" >-0.404735</td>\n",
       "                        <td id=\"T_a29cf_row13_col8\" class=\"data row13 col8\" >-0.198697</td>\n",
       "                        <td id=\"T_a29cf_row13_col9\" class=\"data row13 col9\" >-0.381393</td>\n",
       "                        <td id=\"T_a29cf_row13_col10\" class=\"data row13 col10\" >-0.438220</td>\n",
       "                        <td id=\"T_a29cf_row13_col11\" class=\"data row13 col11\" >-0.249715</td>\n",
       "                        <td id=\"T_a29cf_row13_col12\" class=\"data row13 col12\" >-0.412348</td>\n",
       "                        <td id=\"T_a29cf_row13_col13\" class=\"data row13 col13\" >1.000000</td>\n",
       "            </tr>\n",
       "    </tbody></table>"
      ],
      "text/plain": [
       "<pandas.io.formats.style.Styler at 0x7f1965b7d0a0>"
      ]
     },
     "execution_count": 28,
     "metadata": {},
     "output_type": "execute_result"
    }
   ],
   "source": [
    "corr=users_gym.corr()\n",
    "corr.style.background_gradient(cmap='coolwarm')"
   ]
  },
  {
   "cell_type": "markdown",
   "metadata": {},
   "source": [
    "Para todas las variables, se identifica que \"churn\" tiene una correlaciòn negativa; de las cuales se identifica que la correlaciòn negativa mas alta se manifiesta en las caracterìsticas: lifetime, avg_class_frequency_current_month, contract_period, month_to_end_contract y avg_class_frequency_total. La variable \"churn\" no tiene entonces una correlaciòn significativa con las demàs variables."
   ]
  },
  {
   "cell_type": "markdown",
   "metadata": {},
   "source": [
    "**Se crea mapa de calor**"
   ]
  },
  {
   "cell_type": "code",
   "execution_count": 29,
   "metadata": {
    "scrolled": true
   },
   "outputs": [
    {
     "data": {
      "image/png": "[encoded data removed]",
      "text/plain": [
       "<Figure size 1080x1080 with 2 Axes>"
      ]
     },
     "metadata": {
      "needs_background": "light"
     },
     "output_type": "display_data"
    }
   ],
   "source": [
    "f,ax=plt.subplots(figsize=(15,15))\n",
    "sns.heatmap(corr,vmax=0.8,annot=True,square=True,cmap='coolwarm')\n",
    "plt.title('correlacion churn vs caracterìsticas')\n",
    "plt.show()"
   ]
  },
  {
   "cell_type": "markdown",
   "metadata": {},
   "source": [
    "**Se crea un modelo para predecir la cancelaciòn de los usuarios**"
   ]
  },
  {
   "cell_type": "markdown",
   "metadata": {},
   "source": [
    "Para crear el modelo inicialmente se dividen los datos en caracterìsticas y una variable objetivo."
   ]
  },
  {
   "cell_type": "code",
   "execution_count": 30,
   "metadata": {},
   "outputs": [],
   "source": [
    "X=users_gym.drop(['churn'],axis=1)"
   ]
  },
  {
   "cell_type": "code",
   "execution_count": 31,
   "metadata": {},
   "outputs": [],
   "source": [
    "y=users_gym['churn']"
   ]
  },
  {
   "cell_type": "markdown",
   "metadata": {},
   "source": [
    "Se segmentan los datos con train_test_split(), para dividir los datos de entrenamiento y prueba."
   ]
  },
  {
   "cell_type": "code",
   "execution_count": 32,
   "metadata": {},
   "outputs": [],
   "source": [
    "X_train,X_test,y_train,y_test=train_test_split(X,y,test_size=0.2,random_state=0)"
   ]
  },
  {
   "cell_type": "markdown",
   "metadata": {},
   "source": [
    "Se crea el objeto de clase scaler."
   ]
  },
  {
   "cell_type": "code",
   "execution_count": 33,
   "metadata": {},
   "outputs": [],
   "source": [
    "scaler=StandardScaler()"
   ]
  },
  {
   "cell_type": "markdown",
   "metadata": {},
   "source": [
    "Se transforma la matrìz para el conjunto de entrenamiento."
   ]
  },
  {
   "cell_type": "code",
   "execution_count": 35,
   "metadata": {},
   "outputs": [],
   "source": [
    "X_train_st=scaler.fit_transform(X_train)"
   ]
  },
  {
   "cell_type": "markdown",
   "metadata": {},
   "source": [
    "Se transforma la matrìz para el conjunto de prueba."
   ]
  },
  {
   "cell_type": "code",
   "execution_count": 36,
   "metadata": {},
   "outputs": [],
   "source": [
    "X_test_st=scaler.transform(X_test)"
   ]
  },
  {
   "cell_type": "markdown",
   "metadata": {},
   "source": [
    "**Se entrena el modelo con el set de entrenamiento con los mètodos de regresiòn logìstica y bosque aleatorio.**"
   ]
  },
  {
   "cell_type": "markdown",
   "metadata": {},
   "source": [
    "**Modelo de regresiòn logìstica(LogisticRegression)**"
   ]
  },
  {
   "cell_type": "code",
   "execution_count": 37,
   "metadata": {},
   "outputs": [],
   "source": [
    "model_rl=LogisticRegression(random_state=0,solver='liblinear')"
   ]
  },
  {
   "cell_type": "markdown",
   "metadata": {},
   "source": [
    "Se entrena el modelo."
   ]
  },
  {
   "cell_type": "code",
   "execution_count": 38,
   "metadata": {},
   "outputs": [
    {
     "data": {
      "text/plain": [
       "LogisticRegression(random_state=0, solver='liblinear')"
      ]
     },
     "execution_count": 38,
     "metadata": {},
     "output_type": "execute_result"
    }
   ],
   "source": [
    "model_rl.fit(X_train_st,y_train)"
   ]
  },
  {
   "cell_type": "markdown",
   "metadata": {},
   "source": [
    "Se hacen las previsiones."
   ]
  },
  {
   "cell_type": "code",
   "execution_count": 39,
   "metadata": {},
   "outputs": [],
   "source": [
    "predictions_rl=model_rl.predict(X_test_st)"
   ]
  },
  {
   "cell_type": "code",
   "execution_count": 40,
   "metadata": {},
   "outputs": [],
   "source": [
    "probabilities_rl=model_rl.predict_proba(X_test_st)"
   ]
  },
  {
   "cell_type": "markdown",
   "metadata": {},
   "source": [
    "Se calculan las mètricas de clasificaciòn para el modelo de regresiòn logìstica."
   ]
  },
  {
   "cell_type": "code",
   "execution_count": 41,
   "metadata": {},
   "outputs": [
    {
     "name": "stdout",
     "output_type": "stream",
     "text": [
      "Exactitud: 0.922\n",
      "Precisión: 0.854\n",
      "Recall: 0.828\n"
     ]
    }
   ],
   "source": [
    "print('Exactitud: {:.3f}'.format(accuracy_score(y_test, predictions_rl)))\n",
    "print('Precisión: {:.3f}'.format(precision_score(y_test, predictions_rl)))\n",
    "print('Recall: {:.3f}'.format(recall_score(y_test, predictions_rl)))"
   ]
  },
  {
   "cell_type": "markdown",
   "metadata": {},
   "source": [
    "**Modelo de bosque aleatorio(RandomForestClassifier)**"
   ]
  },
  {
   "cell_type": "code",
   "execution_count": 42,
   "metadata": {},
   "outputs": [],
   "source": [
    "model_ba=RandomForestClassifier(random_state=0, n_estimators=100)"
   ]
  },
  {
   "cell_type": "markdown",
   "metadata": {},
   "source": [
    "se entrena el modelo."
   ]
  },
  {
   "cell_type": "code",
   "execution_count": 43,
   "metadata": {},
   "outputs": [
    {
     "data": {
      "text/plain": [
       "RandomForestClassifier(random_state=0)"
      ]
     },
     "execution_count": 43,
     "metadata": {},
     "output_type": "execute_result"
    }
   ],
   "source": [
    "model_ba.fit(X_train_st,y_train)"
   ]
  },
  {
   "cell_type": "markdown",
   "metadata": {},
   "source": [
    "Se hacen las previsiones con el modelo de bosque aleatorio."
   ]
  },
  {
   "cell_type": "code",
   "execution_count": 44,
   "metadata": {},
   "outputs": [],
   "source": [
    "predictions_ba=model_ba.predict(X_test_st)"
   ]
  },
  {
   "cell_type": "code",
   "execution_count": 45,
   "metadata": {},
   "outputs": [],
   "source": [
    "probabilities_ba=model_ba.predict_proba(X_test_st)"
   ]
  },
  {
   "cell_type": "markdown",
   "metadata": {},
   "source": [
    "Se calculan las mètricas de clasificaciòn para el modelo de regresiòn logìstica."
   ]
  },
  {
   "cell_type": "code",
   "execution_count": 46,
   "metadata": {},
   "outputs": [
    {
     "name": "stdout",
     "output_type": "stream",
     "text": [
      "Exactitud: 0.915\n",
      "Precisión: 0.839\n",
      "Recall: 0.813\n"
     ]
    }
   ],
   "source": [
    "print('Exactitud: {:.3f}'.format(accuracy_score(y_test, predictions_ba)))\n",
    "print('Precisión: {:.3f}'.format(precision_score(y_test, predictions_ba)))\n",
    "print('Recall: {:.3f}'.format(recall_score(y_test, predictions_ba)))"
   ]
  },
  {
   "cell_type": "markdown",
   "metadata": {},
   "source": [
    "De acuerdo con los resultados de los dos modelos, se identifica que las metricas exactitud, precisiòn y recall son un poco mayores para el modelo de regresiòn lineal."
   ]
  },
  {
   "cell_type": "markdown",
   "metadata": {},
   "source": [
    "**Se realiza el clùster de usuarios**"
   ]
  },
  {
   "cell_type": "code",
   "execution_count": 46,
   "metadata": {},
   "outputs": [],
   "source": [
    "sc=StandardScaler() #Se estandarizan los datos."
   ]
  },
  {
   "cell_type": "markdown",
   "metadata": {},
   "source": [
    "Se elimina la columna \"churn\", para transformar las demàs columnas."
   ]
  },
  {
   "cell_type": "code",
   "execution_count": 47,
   "metadata": {},
   "outputs": [],
   "source": [
    "users_gym_no_churn=users_gym.drop('churn',axis=1)"
   ]
  },
  {
   "cell_type": "code",
   "execution_count": 48,
   "metadata": {},
   "outputs": [],
   "source": [
    "X_sc=sc.fit_transform(users_gym_no_churn) #Se trasnforman los datos."
   ]
  },
  {
   "cell_type": "code",
   "execution_count": 49,
   "metadata": {},
   "outputs": [],
   "source": [
    "linked=linkage(X_sc,method='ward')"
   ]
  },
  {
   "cell_type": "markdown",
   "metadata": {},
   "source": [
    "**Se genera el dendograma**"
   ]
  },
  {
   "cell_type": "code",
   "execution_count": 50,
   "metadata": {},
   "outputs": [
    {
     "data": {
      "image/png": "[encoded data removed]",
      "text/plain": [
       "<Figure size 720x432 with 1 Axes>"
      ]
     },
     "metadata": {
      "needs_background": "light"
     },
     "output_type": "display_data"
    }
   ],
   "source": [
    "plt.figure(figsize=(10,6))\n",
    "dendrogram(linked, orientation='top')\n",
    "plt.xticks([])\n",
    "plt.title('Agrupación jeràrquica para usuarios del gym')\n",
    "plt.show()"
   ]
  },
  {
   "cell_type": "markdown",
   "metadata": {},
   "source": [
    "De acuerdo con el gràfico, se pueden destacar 4 clùsteres."
   ]
  },
  {
   "cell_type": "markdown",
   "metadata": {},
   "source": [
    "**Entrenamos el modelo clùstering para predecir los clùsters de clientes**"
   ]
  },
  {
   "cell_type": "code",
   "execution_count": 51,
   "metadata": {},
   "outputs": [],
   "source": [
    "km=KMeans(n_clusters=5,random_state=0) # Se define el modelo K_means con 5 clùsters"
   ]
  },
  {
   "cell_type": "code",
   "execution_count": 52,
   "metadata": {},
   "outputs": [],
   "source": [
    "labels=km.fit_predict(X_sc) #Se predicen los clùsters para las observaciones."
   ]
  },
  {
   "cell_type": "code",
   "execution_count": 53,
   "metadata": {},
   "outputs": [],
   "source": [
    "users_gym_no_churn['cluster_km']=labels # Se almacenan las etiquetas de clùster en los datos."
   ]
  },
  {
   "cell_type": "code",
   "execution_count": 54,
   "metadata": {},
   "outputs": [
    {
     "data": {
      "text/plain": [
       "3    1262\n",
       "0    1010\n",
       "4     838\n",
       "2     505\n",
       "1     385\n",
       "Name: cluster_km, dtype: int64"
      ]
     },
     "execution_count": 54,
     "metadata": {},
     "output_type": "execute_result"
    }
   ],
   "source": [
    "users_gym_no_churn['cluster_km'].value_counts()"
   ]
  },
  {
   "cell_type": "markdown",
   "metadata": {},
   "source": [
    "**Se obtienen los valores medios de caracterìsticas para clùsteres**"
   ]
  },
  {
   "cell_type": "code",
   "execution_count": 55,
   "metadata": {
    "scrolled": true
   },
   "outputs": [
    {
     "data": {
      "text/plain": [
       "array([[-0.01356529,  0.31552772,  0.59261496,  0.57662146,  0.32681319,\n",
       "         1.36568854,  0.26585013,  0.24612792,  0.14404709,  1.34476956,\n",
       "         0.26985253,  0.10590175,  0.19719616],\n",
       "       [ 0.02366082,  0.04724705, -0.03325194, -0.00434424, -3.05985201,\n",
       "         0.02324902,  0.02788078,  0.03592699, -0.03099391,  0.03640728,\n",
       "         0.05333051, -0.0327118 , -0.04814235],\n",
       "       [-0.03040738, -2.33709981, -0.04678376, -0.49643841,  0.32681319,\n",
       "        -0.51191571, -0.39900969, -0.21701381, -0.11922153, -0.50700192,\n",
       "        -0.24403795, -0.22482651, -0.27520459],\n",
       "       [-0.0498058 ,  0.42788074, -0.2720912 , -0.1485145 ,  0.32681319,\n",
       "        -0.60001438, -0.14423666, -0.31245911, -0.15929411, -0.58769402,\n",
       "        -0.34201708, -0.648823  , -0.71544299],\n",
       "       [ 0.09885252,  0.36189075, -0.25998749, -0.16928796,  0.32277183,\n",
       "        -0.44223748,  0.12493307,  0.2888459 ,  0.15272611, -0.44462503,\n",
       "         0.31311849,  1.00088308,  1.02881465]])"
      ]
     },
     "execution_count": 55,
     "metadata": {},
     "output_type": "execute_result"
    }
   ],
   "source": [
    "km.cluster_centers_"
   ]
  },
  {
   "cell_type": "code",
   "execution_count": 56,
   "metadata": {},
   "outputs": [],
   "source": [
    "centroids_df=pd.DataFrame(scaler.inverse_transform(km.cluster_centers_),columns=X_train.columns)"
   ]
  },
  {
   "cell_type": "code",
   "execution_count": 57,
   "metadata": {},
   "outputs": [],
   "source": [
    "centroids_df=centroids_df.reset_index()"
   ]
  },
  {
   "cell_type": "code",
   "execution_count": 58,
   "metadata": {
    "scrolled": false
   },
   "outputs": [
    {
     "data": {
      "text/html": [
       "<div>\n",
       "<style scoped>\n",
       "    .dataframe tbody tr th:only-of-type {\n",
       "        vertical-align: middle;\n",
       "    }\n",
       "\n",
       "    .dataframe tbody tr th {\n",
       "        vertical-align: top;\n",
       "    }\n",
       "\n",
       "    .dataframe thead th {\n",
       "        text-align: right;\n",
       "    }\n",
       "</style>\n",
       "<table border=\"1\" class=\"dataframe\">\n",
       "  <thead>\n",
       "    <tr style=\"text-align: right;\">\n",
       "      <th></th>\n",
       "      <th>centroid</th>\n",
       "      <th>gender</th>\n",
       "      <th>near_location</th>\n",
       "      <th>partner</th>\n",
       "      <th>promo_friends</th>\n",
       "      <th>phone</th>\n",
       "      <th>contract_period</th>\n",
       "      <th>group_visits</th>\n",
       "      <th>age</th>\n",
       "      <th>avg_additional_charges_total</th>\n",
       "      <th>month_to_end_contract</th>\n",
       "      <th>lifetime</th>\n",
       "      <th>avg_class_frequency_total</th>\n",
       "      <th>avg_class_frequency_current_month</th>\n",
       "    </tr>\n",
       "  </thead>\n",
       "  <tbody>\n",
       "    <tr>\n",
       "      <th>0</th>\n",
       "      <td>0</td>\n",
       "      <td>0.514473</td>\n",
       "      <td>0.941222</td>\n",
       "      <td>0.792549</td>\n",
       "      <td>0.550064</td>\n",
       "      <td>0.986972</td>\n",
       "      <td>10.824108</td>\n",
       "      <td>0.518343</td>\n",
       "      <td>30.242664</td>\n",
       "      <td>159.235496</td>\n",
       "      <td>9.929362</td>\n",
       "      <td>4.667600</td>\n",
       "      <td>1.973085</td>\n",
       "      <td>1.982247</td>\n",
       "    </tr>\n",
       "    <tr>\n",
       "      <th>1</th>\n",
       "      <td>1</td>\n",
       "      <td>0.533070</td>\n",
       "      <td>0.838152</td>\n",
       "      <td>0.479624</td>\n",
       "      <td>0.286781</td>\n",
       "      <td>-0.108594</td>\n",
       "      <td>4.718244</td>\n",
       "      <td>0.402341</td>\n",
       "      <td>29.542218</td>\n",
       "      <td>143.003010</td>\n",
       "      <td>4.435379</td>\n",
       "      <td>3.889219</td>\n",
       "      <td>1.839154</td>\n",
       "      <td>1.727393</td>\n",
       "    </tr>\n",
       "    <tr>\n",
       "      <th>2</th>\n",
       "      <td>2</td>\n",
       "      <td>0.506060</td>\n",
       "      <td>-0.077884</td>\n",
       "      <td>0.472859</td>\n",
       "      <td>0.063773</td>\n",
       "      <td>0.986972</td>\n",
       "      <td>2.284136</td>\n",
       "      <td>0.194246</td>\n",
       "      <td>28.699352</td>\n",
       "      <td>134.821193</td>\n",
       "      <td>2.153533</td>\n",
       "      <td>2.820202</td>\n",
       "      <td>1.653529</td>\n",
       "      <td>1.491525</td>\n",
       "    </tr>\n",
       "    <tr>\n",
       "      <th>3</th>\n",
       "      <td>3</td>\n",
       "      <td>0.496370</td>\n",
       "      <td>0.984386</td>\n",
       "      <td>0.360208</td>\n",
       "      <td>0.221446</td>\n",
       "      <td>0.986972</td>\n",
       "      <td>1.883434</td>\n",
       "      <td>0.318439</td>\n",
       "      <td>28.381303</td>\n",
       "      <td>131.105048</td>\n",
       "      <td>1.814696</td>\n",
       "      <td>2.467974</td>\n",
       "      <td>1.243856</td>\n",
       "      <td>1.034212</td>\n",
       "    </tr>\n",
       "    <tr>\n",
       "      <th>4</th>\n",
       "      <td>4</td>\n",
       "      <td>0.570632</td>\n",
       "      <td>0.959034</td>\n",
       "      <td>0.366260</td>\n",
       "      <td>0.212032</td>\n",
       "      <td>0.985665</td>\n",
       "      <td>2.601056</td>\n",
       "      <td>0.449651</td>\n",
       "      <td>30.385011</td>\n",
       "      <td>160.040348</td>\n",
       "      <td>2.415462</td>\n",
       "      <td>4.823138</td>\n",
       "      <td>2.837833</td>\n",
       "      <td>2.846120</td>\n",
       "    </tr>\n",
       "  </tbody>\n",
       "</table>\n",
       "</div>"
      ],
      "text/plain": [
       "   centroid    gender  near_location   partner  promo_friends     phone  \\\n",
       "0         0  0.514473       0.941222  0.792549       0.550064  0.986972   \n",
       "1         1  0.533070       0.838152  0.479624       0.286781 -0.108594   \n",
       "2         2  0.506060      -0.077884  0.472859       0.063773  0.986972   \n",
       "3         3  0.496370       0.984386  0.360208       0.221446  0.986972   \n",
       "4         4  0.570632       0.959034  0.366260       0.212032  0.985665   \n",
       "\n",
       "   contract_period  group_visits        age  avg_additional_charges_total  \\\n",
       "0        10.824108      0.518343  30.242664                    159.235496   \n",
       "1         4.718244      0.402341  29.542218                    143.003010   \n",
       "2         2.284136      0.194246  28.699352                    134.821193   \n",
       "3         1.883434      0.318439  28.381303                    131.105048   \n",
       "4         2.601056      0.449651  30.385011                    160.040348   \n",
       "\n",
       "   month_to_end_contract  lifetime  avg_class_frequency_total  \\\n",
       "0               9.929362  4.667600                   1.973085   \n",
       "1               4.435379  3.889219                   1.839154   \n",
       "2               2.153533  2.820202                   1.653529   \n",
       "3               1.814696  2.467974                   1.243856   \n",
       "4               2.415462  4.823138                   2.837833   \n",
       "\n",
       "   avg_class_frequency_current_month  \n",
       "0                           1.982247  \n",
       "1                           1.727393  \n",
       "2                           1.491525  \n",
       "3                           1.034212  \n",
       "4                           2.846120  "
      ]
     },
     "execution_count": 58,
     "metadata": {},
     "output_type": "execute_result"
    }
   ],
   "source": [
    "centroids_df.rename(columns={\"index\": \"centroid\"}, inplace=True)\n",
    "centroids_df"
   ]
  },
  {
   "cell_type": "code",
   "execution_count": 59,
   "metadata": {},
   "outputs": [],
   "source": [
    "features = [col for col in users_gym.select_dtypes(include=np.number).columns.tolist() if col != \"churn\"]"
   ]
  },
  {
   "cell_type": "code",
   "execution_count": 60,
   "metadata": {},
   "outputs": [],
   "source": [
    "centroids_df_melt = centroids_df.melt(\n",
    "    id_vars=\"centroid\",\n",
    "    value_vars=features,\n",
    "    var_name=\"feature\",\n",
    "    value_name=\"feature_value\"\n",
    ")"
   ]
  },
  {
   "cell_type": "markdown",
   "metadata": {},
   "source": [
    "**Se crea un histograma para analizar las distribuciones de las caracterìsticas para los clùsteres**"
   ]
  },
  {
   "cell_type": "code",
   "execution_count": 61,
   "metadata": {},
   "outputs": [
    {
     "data": {
      "image/png": "[encoded data removed]",
      "text/plain": [
       "<Figure size 1440x1080 with 1 Axes>"
      ]
     },
     "metadata": {
      "needs_background": "light"
     },
     "output_type": "display_data"
    }
   ],
   "source": [
    "plt.figure(figsize=(20, 15))\n",
    "my_plot=sns.barplot(data=centroids_df_melt, x=\"feature\", y=\"feature_value\", hue=\"centroid\", \n",
    "                    ax=plt.gca())\n",
    "my_plot.set_xticklabels(my_plot.get_xticklabels(), rotation=90, ha='center', minor=False)\n",
    "plt.xlabel('feature', fontsize=20);\n",
    "plt.ylabel('feature_value', fontsize=15)\n",
    "plt.tick_params(axis='both', which='major', labelsize=14)\n",
    "plt.show()"
   ]
  },
  {
   "cell_type": "markdown",
   "metadata": {},
   "source": [
    "De acuerdo con el histograma que relaciona los clùsters con las caracterìsticas \"avg_additional_charges_tota\" y \"edad\" tienen mayor distribuciòn dentro de los cinco clùsteres. las caracterìsticas \"gender\", \"partner\" y \"promo_friends\" se distribuyen menos dentro de los 5 clùsteres."
   ]
  },
  {
   "cell_type": "markdown",
   "metadata": {},
   "source": [
    "**Se calcula la tasa de cancelaciòn para cada clùster**"
   ]
  },
  {
   "cell_type": "markdown",
   "metadata": {},
   "source": [
    "Se tiene en cuenta nuevamente la columna \"churn\"."
   ]
  },
  {
   "cell_type": "code",
   "execution_count": 62,
   "metadata": {},
   "outputs": [],
   "source": [
    "users_gym_no_churn['churn']=y_test.reset_index(drop=True)"
   ]
  },
  {
   "cell_type": "code",
   "execution_count": 63,
   "metadata": {},
   "outputs": [
    {
     "data": {
      "text/plain": [
       "cluster_km\n",
       "2    0.325581\n",
       "3    0.251908\n",
       "0    0.244898\n",
       "4    0.224852\n",
       "1    0.206897\n",
       "Name: churn, dtype: float64"
      ]
     },
     "execution_count": 63,
     "metadata": {},
     "output_type": "execute_result"
    }
   ],
   "source": [
    "users_gym_no_churn.groupby('cluster_km')['churn'].mean().sort_values(ascending=False)"
   ]
  },
  {
   "cell_type": "code",
   "execution_count": 64,
   "metadata": {
    "scrolled": true
   },
   "outputs": [
    {
     "data": {
      "image/png": "[encoded data removed]",
      "text/plain": [
       "<Figure size 1440x432 with 1 Axes>"
      ]
     },
     "metadata": {
      "needs_background": "light"
     },
     "output_type": "display_data"
    }
   ],
   "source": [
    "users_gym_no_churn.groupby('cluster_km')['churn'].mean().sort_values(ascending=False).plot(kind='bar',figsize=(20,6))\n",
    "plt.title('cancelaciòn por clùster')\n",
    "plt.xlabel('clùster')\n",
    "plt.ylabel('frecuencia')\n",
    "plt.show()"
   ]
  },
  {
   "cell_type": "markdown",
   "metadata": {},
   "source": [
    "Se evidencia mayor tasa de cancelaciòn en el clùster del grupo 2 (32.5%)."
   ]
  },
  {
   "cell_type": "markdown",
   "metadata": {},
   "source": [
    "# Conclusiones <a id='conclusiones'></a>"
   ]
  },
  {
   "cell_type": "markdown",
   "metadata": {},
   "source": [
    "En la base de datos no se identificaron datos ausentes ni duplicados.\n",
    "\n",
    "Sòlo se considerò necesario cambiar los nombres de las columnas a minùsculas.\n",
    "\n",
    "La distribución de los usuarios que cancelaron que son hombres o mujeres se consideran datos muy parecidos; por lo cual no es un dato muy relevante para las cancelaciones.\n",
    "\n",
    "De acuerdo con el histograma que relaciona la cancelación del servicio con la cercanía al gimnasio, se identifica que la mayor cantidad de usuarios que cancelaron viven en zona cercana al gimnasio; por lo cual vivir cerca no influye en que los usuarios permanezcan utilizando el servicio.\n",
    "\n",
    "Se identifica que utilizar un patrocinador no influye mucho en la retenciòn de los clientes; ya que se identifica que hay mayor distribución de cancelaciones para los clientes que no utilizaron un patrocinador.\n",
    "\n",
    "Se identifica mayor cancelación para los usuarios que no utilizaron la promoción por parte de un amigo.\n",
    "Los usuarios que cancelan, en su mayoría no participan de sesiones grupales.\n",
    "\n",
    "Con respecto al tiempo del contrato, entre mayor es el tiempo de contrato menor es el número de cancelaciones por parte de los usuarios.\n",
    "\n",
    "la tendencia a cancelar por parte de los usuarios es mayor para los usuarios más jóvenes.\n",
    "\n",
    "La distribución de usuarios que cancelan es menor para los usuarios que han permanecido en el gimnasio por más tiempo, es decir que entre más tiempo en meses por parte de los usuarios menor es la cancelación.\n",
    "\n",
    "Se identifica que entre más tiempo haya pasado desde que el usuario llega por primera vez menor es la cancelación del servicio.\n",
    "\n",
    "los usuarios que cancelan frecuentan menos el gimnasio en la semana.\n",
    "\n",
    "Los usuarios que tienden a gastar menor cantidad de dinero en otros servicios, tienden a reportar mayor cantidad de cancelaciones.\n",
    "\n",
    "De acuerdo con los resultados de los dos modelos, se identifica que las métricas exactitud y precisiòn son un poco mayores con el modelo de bosque aleatorio, la mètrica recall es un poco mayor en el modelo de regresiòn lineal.\n",
    "\n",
    "De acuerdo con el histograma que relaciona los clùsters con las caracterìsticas \"avg_additional_charges_tota\" y \"edad\" tienen mayor distribuciòn dentro de los cinco clùsteres. las caracterìsticas \"gender\", \"partner\" y \"promo _friends\" se distribuyen menos dentro de los 5 clùsteres.\n",
    "\n",
    "Se evidencia mayor tasa de cancelaciòn en el clùster del grupo 2 (32.5%).\n"
   ]
  }
 ],
 "metadata": {
  "kernelspec": {
   "display_name": "Python 3 (ipykernel)",
   "language": "python",
   "name": "python3"
  },
  "language_info": {
   "codemirror_mode": {
    "name": "ipython",
    "version": 3
   },
   "file_extension": ".py",
   "mimetype": "text/x-python",
   "name": "python",
   "nbconvert_exporter": "python",
   "pygments_lexer": "ipython3",
   "version": "3.9.5"
  },
  "toc": {
   "base_numbering": 1,
   "nav_menu": {},
   "number_sections": true,
   "sideBar": true,
   "skip_h1_title": true,
   "title_cell": "Table of Contents",
   "title_sidebar": "Contents",
   "toc_cell": false,
   "toc_position": {},
   "toc_section_display": true,
   "toc_window_display": false
  }
 },
 "nbformat": 4,
 "nbformat_minor": 2
}
